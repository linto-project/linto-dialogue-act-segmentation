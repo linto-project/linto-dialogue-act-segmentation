{
 "cells": [
  {
   "cell_type": "markdown",
   "metadata": {},
   "source": [
    "# Snorkel LinTo "
   ]
  },
  {
   "cell_type": "markdown",
   "metadata": {},
   "source": [
    "### Contents\n",
    "#### 1. Data loading\n",
    "#### 2. Label definition\n",
    "#### 3. Train/test/dev sets separation\n",
    "#### 4. Rules writing\n",
    "#### 5. Application of the rules\n",
    "#### 6. Generative model\n",
    "#### 7. Analysis of the results\n",
    "#### 8. Useful files creation\n"
   ]
  },
  {
   "cell_type": "markdown",
   "metadata": {},
   "source": [
    "## 1. Data loading"
   ]
  },
  {
   "cell_type": "code",
   "execution_count": 1,
   "metadata": {},
   "outputs": [],
   "source": [
    "%matplotlib inline\n",
    "import os\n",
    "import numpy as np\n",
    "\n",
    "# Turn off TensorFlow logging messages\n",
    "os.environ[\"TF_CPP_MIN_LOG_LEVEL\"] = \"3\"\n",
    "\n",
    "# For reproducibility\n",
    "os.environ[\"PYTHONHASHSEED\"] = \"0\"\n"
   ]
  },
  {
   "cell_type": "code",
   "execution_count": 2,
   "metadata": {},
   "outputs": [],
   "source": [
    "import pandas as pd\n",
    "\n",
    "\n",
    "DISPLAY_ALL_TEXT = True\n",
    "\n",
    "pd.set_option(\"display.max_colwidth\", 0 if DISPLAY_ALL_TEXT else 50)\n",
    "\n"
   ]
  },
  {
   "cell_type": "code",
   "execution_count": 3,
   "metadata": {
    "slideshow": {
     "slide_type": "-"
    }
   },
   "outputs": [],
   "source": [
    "\n",
    "import spacy\n",
    "\n",
    "nlp = spacy.load('fr_core_news_sm')\n",
    "\n",
    "# if not loaded : french model\n",
    "#! python -m spacy download fr_core_news_sm"
   ]
  },
  {
   "cell_type": "code",
   "execution_count": 4,
   "metadata": {},
   "outputs": [
    {
     "data": {
      "text/html": [
       "<div>\n",
       "<style scoped>\n",
       "    .dataframe tbody tr th:only-of-type {\n",
       "        vertical-align: middle;\n",
       "    }\n",
       "\n",
       "    .dataframe tbody tr th {\n",
       "        vertical-align: top;\n",
       "    }\n",
       "\n",
       "    .dataframe thead th {\n",
       "        text-align: right;\n",
       "    }\n",
       "</style>\n",
       "<table border=\"1\" class=\"dataframe\">\n",
       "  <thead>\n",
       "    <tr style=\"text-align: right;\">\n",
       "      <th></th>\n",
       "      <th>word</th>\n",
       "      <th>beg_word</th>\n",
       "      <th>end_word</th>\n",
       "      <th>n_turn</th>\n",
       "      <th>beg_turn</th>\n",
       "      <th>end_turn</th>\n",
       "      <th>rank_turn</th>\n",
       "      <th>text_turn</th>\n",
       "      <th>sil_bef</th>\n",
       "      <th>sil_aft</th>\n",
       "      <th>...</th>\n",
       "      <th>token_bef</th>\n",
       "      <th>token_aft</th>\n",
       "      <th>dep</th>\n",
       "      <th>dep_bef</th>\n",
       "      <th>dep_aft</th>\n",
       "      <th>headpos</th>\n",
       "      <th>headpos_bef</th>\n",
       "      <th>headpos_aft</th>\n",
       "      <th>energy_aft</th>\n",
       "      <th>pitch_aft</th>\n",
       "    </tr>\n",
       "  </thead>\n",
       "  <tbody>\n",
       "    <tr>\n",
       "      <th>0</th>\n",
       "      <td>ok</td>\n",
       "      <td>2.00</td>\n",
       "      <td>2.37</td>\n",
       "      <td>0</td>\n",
       "      <td>0.0</td>\n",
       "      <td>10.123</td>\n",
       "      <td>0</td>\n",
       "      <td>ok donc juste comme on enregistre euh donc là c' est le le deuxième scénario</td>\n",
       "      <td>1.26</td>\n",
       "      <td>0.00</td>\n",
       "      <td>...</td>\n",
       "      <td>ADP</td>\n",
       "      <td>ADV</td>\n",
       "      <td>ROOT</td>\n",
       "      <td>ROOT</td>\n",
       "      <td>advmod</td>\n",
       "      <td>ADP</td>\n",
       "      <td>ADP</td>\n",
       "      <td>ADP</td>\n",
       "      <td>0</td>\n",
       "      <td>0</td>\n",
       "    </tr>\n",
       "    <tr>\n",
       "      <th>1</th>\n",
       "      <td>donc</td>\n",
       "      <td>2.73</td>\n",
       "      <td>3.01</td>\n",
       "      <td>0</td>\n",
       "      <td>0.0</td>\n",
       "      <td>10.123</td>\n",
       "      <td>1</td>\n",
       "      <td>ok donc juste comme on enregistre euh donc là c' est le le deuxième scénario</td>\n",
       "      <td>0.00</td>\n",
       "      <td>0.24</td>\n",
       "      <td>...</td>\n",
       "      <td>ADP</td>\n",
       "      <td>ADV</td>\n",
       "      <td>advmod</td>\n",
       "      <td>ROOT</td>\n",
       "      <td>advmod</td>\n",
       "      <td>ADP</td>\n",
       "      <td>ADP</td>\n",
       "      <td>VERB</td>\n",
       "      <td>D</td>\n",
       "      <td>U</td>\n",
       "    </tr>\n",
       "    <tr>\n",
       "      <th>2</th>\n",
       "      <td>juste</td>\n",
       "      <td>3.38</td>\n",
       "      <td>3.67</td>\n",
       "      <td>0</td>\n",
       "      <td>0.0</td>\n",
       "      <td>10.123</td>\n",
       "      <td>2</td>\n",
       "      <td>ok donc juste comme on enregistre euh donc là c' est le le deuxième scénario</td>\n",
       "      <td>0.24</td>\n",
       "      <td>0.00</td>\n",
       "      <td>...</td>\n",
       "      <td>ADV</td>\n",
       "      <td>SCONJ</td>\n",
       "      <td>advmod</td>\n",
       "      <td>advmod</td>\n",
       "      <td>mark</td>\n",
       "      <td>VERB</td>\n",
       "      <td>ADP</td>\n",
       "      <td>VERB</td>\n",
       "      <td>D</td>\n",
       "      <td>D</td>\n",
       "    </tr>\n",
       "    <tr>\n",
       "      <th>3</th>\n",
       "      <td>comme</td>\n",
       "      <td>3.92</td>\n",
       "      <td>4.22</td>\n",
       "      <td>0</td>\n",
       "      <td>0.0</td>\n",
       "      <td>10.123</td>\n",
       "      <td>3</td>\n",
       "      <td>ok donc juste comme on enregistre euh donc là c' est le le deuxième scénario</td>\n",
       "      <td>0.00</td>\n",
       "      <td>0.00</td>\n",
       "      <td>...</td>\n",
       "      <td>ADV</td>\n",
       "      <td>PRON</td>\n",
       "      <td>mark</td>\n",
       "      <td>advmod</td>\n",
       "      <td>nsubj</td>\n",
       "      <td>VERB</td>\n",
       "      <td>VERB</td>\n",
       "      <td>VERB</td>\n",
       "      <td>U</td>\n",
       "      <td>D</td>\n",
       "    </tr>\n",
       "    <tr>\n",
       "      <th>4</th>\n",
       "      <td>on</td>\n",
       "      <td>4.23</td>\n",
       "      <td>4.67</td>\n",
       "      <td>0</td>\n",
       "      <td>0.0</td>\n",
       "      <td>10.123</td>\n",
       "      <td>4</td>\n",
       "      <td>ok donc juste comme on enregistre euh donc là c' est le le deuxième scénario</td>\n",
       "      <td>0.00</td>\n",
       "      <td>0.12</td>\n",
       "      <td>...</td>\n",
       "      <td>SCONJ</td>\n",
       "      <td>VERB</td>\n",
       "      <td>nsubj</td>\n",
       "      <td>mark</td>\n",
       "      <td>xcomp</td>\n",
       "      <td>VERB</td>\n",
       "      <td>VERB</td>\n",
       "      <td>ADP</td>\n",
       "      <td>D</td>\n",
       "      <td>U</td>\n",
       "    </tr>\n",
       "  </tbody>\n",
       "</table>\n",
       "<p>5 rows × 38 columns</p>\n",
       "</div>"
      ],
      "text/plain": [
       "    word  beg_word  end_word  n_turn  beg_turn  end_turn  rank_turn  \\\n",
       "0  ok     2.00      2.37      0       0.0       10.123    0           \n",
       "1  donc   2.73      3.01      0       0.0       10.123    1           \n",
       "2  juste  3.38      3.67      0       0.0       10.123    2           \n",
       "3  comme  3.92      4.22      0       0.0       10.123    3           \n",
       "4  on     4.23      4.67      0       0.0       10.123    4           \n",
       "\n",
       "                                                                      text_turn  \\\n",
       "0  ok donc juste comme on enregistre euh donc là c' est le le deuxième scénario   \n",
       "1  ok donc juste comme on enregistre euh donc là c' est le le deuxième scénario   \n",
       "2  ok donc juste comme on enregistre euh donc là c' est le le deuxième scénario   \n",
       "3  ok donc juste comme on enregistre euh donc là c' est le le deuxième scénario   \n",
       "4  ok donc juste comme on enregistre euh donc là c' est le le deuxième scénario   \n",
       "\n",
       "   sil_bef  sil_aft  ...  token_bef  token_aft     dep  dep_bef  dep_aft  \\\n",
       "0  1.26     0.00     ...  ADP        ADV        ROOT    ROOT     advmod    \n",
       "1  0.00     0.24     ...  ADP        ADV        advmod  ROOT     advmod    \n",
       "2  0.24     0.00     ...  ADV        SCONJ      advmod  advmod   mark      \n",
       "3  0.00     0.00     ...  ADV        PRON       mark    advmod   nsubj     \n",
       "4  0.00     0.12     ...  SCONJ      VERB       nsubj   mark     xcomp     \n",
       "\n",
       "   headpos  headpos_bef  headpos_aft  energy_aft  pitch_aft  \n",
       "0  ADP      ADP          ADP          0           0          \n",
       "1  ADP      ADP          VERB         D           U          \n",
       "2  VERB     ADP          VERB         D           D          \n",
       "3  VERB     VERB         VERB         U           D          \n",
       "4  VERB     VERB         ADP          D           U          \n",
       "\n",
       "[5 rows x 38 columns]"
      ]
     },
     "execution_count": 4,
     "metadata": {},
     "output_type": "execute_result"
    }
   ],
   "source": [
    "# Complete dataframe loading with columns : \n",
    "#['word', 'beg_word', 'end_word', 'n_turn', 'beg_turn', 'end_turn',\n",
    " #      'rank_turn', 'text_turn', 'sil_bef', 'sil_aft', 'tony',\n",
    "  #     'tony_realturns', 'gold', 'prob_nothing', 'prob_period', 'prob_comma',\n",
    "   #    'prob_nothing_bef', 'prob_period_bef', 'prob_comma_bef',\n",
    "    #   'real_rank_turn', 'pitch', 'energy', 'pitch_bef', 'energy_bef', 'punct',\n",
    "     #  'punct_bef', 'file', 'token', 'token_bef', 'token_aft', 'dep',\n",
    "      # 'dep_bef', 'dep_aft', 'headpos', 'headpos_bef', 'headpos_aft',\n",
    "       #'energy_aft', 'pitch_aft']\n",
    "\n",
    "df_linto = pd.read_csv(\"../data/df_all_final_LinTo_23032021.csv\")\n",
    "df_linto.head()"
   ]
  },
  {
   "cell_type": "code",
   "execution_count": 5,
   "metadata": {},
   "outputs": [
    {
     "data": {
      "text/plain": [
       "Index(['word', 'beg_word', 'end_word', 'n_turn', 'beg_turn', 'end_turn',\n",
       "       'rank_turn', 'text_turn', 'sil_bef', 'sil_aft', 'tony',\n",
       "       'tony_realturns', 'gold', 'prob_nothing', 'prob_period', 'prob_comma',\n",
       "       'prob_nothing_bef', 'prob_period_bef', 'prob_comma_bef',\n",
       "       'real_rank_turn', 'pitch', 'energy', 'pitch_bef', 'energy_bef', 'punct',\n",
       "       'punct_bef', 'file', 'token', 'token_bef', 'token_aft', 'dep',\n",
       "       'dep_bef', 'dep_aft', 'headpos', 'headpos_bef', 'headpos_aft',\n",
       "       'energy_aft', 'pitch_aft'],\n",
       "      dtype='object')"
      ]
     },
     "execution_count": 5,
     "metadata": {},
     "output_type": "execute_result"
    }
   ],
   "source": [
    "df_linto.columns"
   ]
  },
  {
   "cell_type": "code",
   "execution_count": 6,
   "metadata": {},
   "outputs": [],
   "source": [
    "# to-do : check if every columns are presents in the loaded file"
   ]
  },
  {
   "cell_type": "markdown",
   "metadata": {},
   "source": [
    "## 2. Label definition"
   ]
  },
  {
   "cell_type": "code",
   "execution_count": 7,
   "metadata": {},
   "outputs": [],
   "source": [
    "ABSTAIN = -1\n",
    "NO = 0\n",
    "BOS = 1"
   ]
  },
  {
   "cell_type": "markdown",
   "metadata": {},
   "source": [
    "## 3. Train/test/dev sets separation"
   ]
  },
  {
   "cell_type": "code",
   "execution_count": 8,
   "metadata": {},
   "outputs": [
    {
     "name": "stdout",
     "output_type": "stream",
     "text": [
      "dev length =  9752 words \n",
      "test length =  8833 words \n",
      "train length =  53692 words\n"
     ]
    }
   ],
   "source": [
    "df_dev = df_linto[(df_linto[\"file\"]==\"Linagora_R1\") | (df_linto[\"file\"]==\"Linagora_A1\")]\n",
    "df_test = df_linto[(df_linto[\"file\"]==\"Linagora_P1\") | (df_linto[\"file\"]==\"Linagora_C1\")]\n",
    "df_train=df_linto[(df_linto[\"file\"]!=\"Linagora_R1\")&(df_linto[\"file\"]!=\"Linagora_A1\")&(df_linto[\"file\"]!=\"Linagora_P1\")&(df_linto[\"file\"]!=\"Linagora_C1\")]\n",
    "\n",
    "\n",
    "Y_test = df_test[\"gold\"].values\n",
    "Y_dev = df_dev[\"gold\"].values\n",
    "\n",
    "print(\"dev length = \", len(df_dev),\"words \\ntest length = \", len(df_test),\"words \\ntrain length = \", len(df_train), \"words\")"
   ]
  },
  {
   "cell_type": "markdown",
   "metadata": {},
   "source": [
    "## 4. Rules writing"
   ]
  },
  {
   "cell_type": "code",
   "execution_count": null,
   "metadata": {},
   "outputs": [],
   "source": []
  },
  {
   "cell_type": "code",
   "execution_count": 9,
   "metadata": {},
   "outputs": [],
   "source": [
    "\n",
    "import sys\n",
    "sys.path.insert(1,\"utils/\")\n",
    "from utils_snorkel_linto import * \n",
    "\n",
    "beg_markers=[\"bon\",\"ouais\",\"oui\",\"pour\", \"donc\",\"effectivement\",\"alors\",\"bref\",\"voilà\", \"et\", \"ensuite\", \"mais\", \"ben\", \"hein\", \"enfin\", \"finalement\", \"pourtant\", \"cependant\", \"parce\"]\n",
    "couple_markers=dict(du=[\"coup\"], de=[\"fait\"], en=[\"fait\", \"vrai\", \"effet\"], parce=[\"que\",\"qu'\"], et=[\"puis\", \"donc\"],enfin=[\"bon\"],mais=[\"bon\"], à=[\"propos\"], tu=[\"vois\",\"sais\"])\n",
    "single_markers=[\"ouais\", \"donc\",\"effectivement\",\"alors\",\"bref\",\"voilà\", \"ensuite\", \"mais\", \"ben\", \"hein\", \"enfin\", \"finalement\", \"pourtant\", \"cependant\"]\n",
    "pronoms=[\"je\", \"tu\", \"il\", \"vous\", \"on\", \"nous\", \"elle\", \"ils\",\"qui\", \"que\", \"j'\",\"c'\"]"
   ]
  },
  {
   "cell_type": "markdown",
   "metadata": {},
   "source": [
    "### Basic rules (without preprocessor)\n",
    "\n"
   ]
  },
  {
   "cell_type": "code",
   "execution_count": 10,
   "metadata": {},
   "outputs": [],
   "source": [
    "from snorkel.labeling import labeling_function\n",
    "\n",
    "\n",
    "# If ToNy (written) predicts BOS -> BOS\n",
    "@labeling_function()\n",
    "def tony(x):\n",
    "    return BOS if x[\"tony\"]==1 else ABSTAIN\n",
    "\n",
    "\n",
    "# If period likelihood just before the current word > 0.3 -> BOS \n",
    "@labeling_function()\n",
    "def period_bef(x):\n",
    "    return BOS if x[\"prob_period_bef\"]>0.3 and x[\"word\"]!=\"euh\" else ABSTAIN\n",
    "\n",
    "# If no punctuation likelihood after the current word > 0.99 -> NO\n",
    "@labeling_function()\n",
    "def nothing_bef(x):\n",
    "    return NO if x[\"prob_nothing_bef\"]>0.99 else ABSTAIN\n",
    "\n",
    "# If comma likelihood just before the current word > 0.3 -> BOS\n",
    "@labeling_function()\n",
    "def comma_bef(x):\n",
    "     return BOS if x[\"prob_comma_bef\"]>0.3 else ABSTAIN\n",
    "\n",
    "\n",
    "# If repetitions/hesitations (\"euh\" aside) -> NO\n",
    "@labeling_function()\n",
    "def no_disfluency(x):\n",
    "    param_context=4\n",
    "    list_text=str(x[\"text_turn\"]).split(\" \")\n",
    "    pos=int(x[\"rank_turn\"])\n",
    "    context=[]\n",
    "    cmpt=0\n",
    "    if pos>param_context and pos<len(list_text)-param_context:\n",
    "        for e in list_text[pos-param_context:pos+param_context]:\n",
    "            context.append(e)\n",
    "        while \"euh\" in context:\n",
    "            context.remove(\"euh\")\n",
    "            cmpt+=1\n",
    "        if abs(len(set(context))-len(context))>=2 or cmpt>2:\n",
    "            return NO\n",
    "        \n",
    "    param_context=2\n",
    "    context=[]\n",
    "    cmpt=0\n",
    "    if pos>param_context and pos<len(list_text)-param_context:\n",
    "        for e in list_text[pos-param_context:pos+param_context]:\n",
    "            context.append(e)\n",
    "        if len(set(context))!=len(context):\n",
    "            return NO\n",
    "    return ABSTAIN\n",
    "\n",
    "# If energy and pitch follow a particular pattern -> BOS\n",
    "@labeling_function()\n",
    "def energy_pitch(x):\n",
    "    liste_features=[\"DUUS\", \"DDUS\", \"DDUU\", \"SDUD\", \"SUUD\", \"SUUU\"]\n",
    "    str_feat=str(x.energy_bef)+str(x.energy)+str(x.pitch_bef)+str(x.pitch)\n",
    "    \n",
    "    if str_feat in liste_features and x.word!=\"euh\" and x.sil_bef>0.3:\n",
    "        return BOS\n",
    "\n",
    "    return ABSTAIN\n",
    "\n",
    "\n",
    "\n",
    "\n",
    "\n",
    "\n",
    "# If previous, current and next word belongs to specific types -> BOS \n",
    "@labeling_function()\n",
    "def cconj(x):\n",
    "    liste_no=[\"euh\", \"pas\", \"que\", \"ou\", \"tu\", \"aussi\", \"là\"]\n",
    "    if (x.token_bef==\"NOUN\" and  x.token==\"CCONJ\" and x.token_aft==\"PRON\") or (x.token_bef==\"NOUN\" and  x.token==\"SCONJ\" and x.token_aft==\"SCONJ\") or (x.token_bef==\"NOUN\" and  x.token==\"ADV\" and x.token_aft==\"PRON\") and x.word not in liste_no:\n",
    "        return BOS\n",
    "    return ABSTAIN\n",
    "\n",
    "\n",
    "# if beginning of real turn -> BOS\n",
    "@labeling_function()\n",
    "def beg_real_turn(x):\n",
    "    if x.real_rank_turn==0:\n",
    "        return BOS\n",
    "    return ABSTAIN\n"
   ]
  },
  {
   "cell_type": "markdown",
   "metadata": {},
   "source": [
    "### Rules using preprocessor"
   ]
  },
  {
   "cell_type": "markdown",
   "metadata": {},
   "source": [
    "#### Preprocessor creation"
   ]
  },
  {
   "cell_type": "code",
   "execution_count": 11,
   "metadata": {},
   "outputs": [],
   "source": [
    "from snorkel.preprocess.nlp import SpacyPreprocessor\n",
    "\n",
    "# The SpacyPreprocessor parses the text in text_field and\n",
    "# stores the new enriched representation in doc_field\n",
    "spacy = SpacyPreprocessor(text_field=\"word\",language='fr_core_news_sm', doc_field=\"doc\", memoize=True)\n"
   ]
  },
  {
   "cell_type": "code",
   "execution_count": 12,
   "metadata": {},
   "outputs": [],
   "source": [
    "import numpy as np\n",
    "from snorkel.preprocess import preprocessor\n",
    "\n",
    "\n",
    "@preprocessor(memoize=True)\n",
    "def word_context_markers(x):\n",
    "    text_list=str(x.text_turn).split(\" \")\n",
    "    position=int(x.rank_turn)\n",
    "    \n",
    "    x.word_aft,x.word_bef = get_word_context(text_list, position)\n",
    "    x.first_marker=set_first_marker(couple_markers, single_markers, text_list, position, x.word)\n",
    "    x.after_marker=set_after_marker(couple_markers, single_markers, text_list, position, x.word)\n",
    "    \n",
    "    return x"
   ]
  },
  {
   "cell_type": "markdown",
   "metadata": {},
   "source": [
    "#### Pre-processor : word_context_markers"
   ]
  },
  {
   "cell_type": "code",
   "execution_count": 13,
   "metadata": {},
   "outputs": [],
   "source": [
    "# If current word is an isolated marker or ther first of a serie -> BOS\n",
    "@labeling_function(pre=[word_context_markers])\n",
    "def first_marker(x):\n",
    "    if x.first_marker==1:\n",
    "        return BOS\n",
    "    else:\n",
    "        return ABSTAIN"
   ]
  },
  {
   "cell_type": "code",
   "execution_count": 14,
   "metadata": {},
   "outputs": [],
   "source": [
    "# If the current word follows an isolated marker or a serie of markers -> NO\n",
    "@labeling_function(pre=[word_context_markers])\n",
    "def no_after_markers(x):\n",
    "    if x.after_marker==1:\n",
    "        return NO\n",
    "    else:\n",
    "        return ABSTAIN\n",
    "\n",
    "    \n",
    "# If energy/f0 follow a specific pattern -> NO\n",
    "@labeling_function(pre=[word_context_markers])\n",
    "def no_energy_pitch(x):\n",
    "    list_nrj_bef=[\"S\", \"U\"]\n",
    "    list_pitch_bef=[\"D\", \"S\"]\n",
    "    if (x.energy_bef in list_nrj_bef and x.pitch_bef in list_pitch_bef)or  (x.energy_bef==\"D\" and x.energy==\"D\"):\n",
    "        if x.first_marker!=1 and x.word not in pronoms:\n",
    "            return NO\n",
    "    return ABSTAIN\n",
    "\n",
    "\n",
    "\n",
    "# If silence longer than 0.7s before the word -> BOS\n",
    "\n",
    "@labeling_function(pre=[word_context_markers])\n",
    "def sil_bef(x):\n",
    "    \n",
    "    if x.after_marker!=1 and x[\"sil_bef\"]>=0.7 and x.word_bef!=\"euh\" and x.word_aft!=\"euh\" and x.word_bef!=x.word_aft and x.word_bef!=x[\"word\"] and x.word_aft!=x[\"word\"] and x[\"word\"]!=\"euh\":\n",
    "        single_markers=[\"donc\",\"effectivement\",\"alors\",\"bref\",\"voilà\", \"et\", \"ensuite\", \"mais\", \"ben\", \"hein\", \"enfin\", \"finalement\", \"pourtant\", \"cependant\"]\n",
    "        pronoms=[\"je\", \"tu\", \"il\", \"vous\", \"on\", \"nous\", \"elle\", \"ils\"]\n",
    "        \n",
    "        return BOS\n",
    "\n",
    "\n",
    "    return ABSTAIN\n",
    "\n",
    "\n",
    "\n",
    "# If no silence before the word -> NO\n",
    "@labeling_function(pre=[word_context_markers])\n",
    "def no_sil_bef(x):\n",
    "    if x[\"sil_bef\"]==0 and x.first_marker!=1 and x[\"word\"] not in pronoms:\n",
    "        return NO\n",
    "    else:\n",
    "        return ABSTAIN\n",
    "\n",
    "# If word in keyword list -> BOS\n",
    "@labeling_function(pre=[word_context_markers])\n",
    "def keywords(x):\n",
    "    liste=[\"bonjour\", \"merci\", \"ok\", \"oui\", \"non\", \"ouais\"]\n",
    "    if x.after_marker!=1:\n",
    "        if x.word in liste or (x.word==\"d'\" and x.word_aft==\"accord\") or (x.word==\"hum\" and x.word_aft==\"hum\"):\n",
    "            return BOS \n",
    "    return ABSTAIN\n",
    "\n",
    "\n",
    "# If combination of audio and spacy info are successful in dev set\n",
    "\n",
    "@labeling_function(pre=[word_context_markers])\n",
    "def spacy_audio_combinations(x):\n",
    "    # dictionary of godd BOS combinations between part-of-speech informaiton and pitch/energy/dependency/pos of head dependency\n",
    "    # P = previous, C = Current\n",
    "    \n",
    "    # example : dict_PC_PCe\n",
    "    # means it's a dictionary with the pos-tags of the Previous and Current (PC) words  \n",
    "    # combined to the energy orientation of previous and current words (PCe)\n",
    "    \n",
    "    # the combinations with BOS proportion>50% have been selected and put in the dictionaries\n",
    "    \n",
    "    dict_PC_PCe,dict_PC_PCp,dict_PC_PCpe,dict_PC_Cdep,dict_PC_Cheadpos,dict_PC_Pheadpos, dict_PC_Pdep = get_dictionaries_spacy_audio()\n",
    "    \n",
    "    # get spacy and audio  information of Previous and Current words to compare with dict\n",
    "    PCpos=x.token_bef+\"_\"+x.token\n",
    "    Cdep=x.dep\n",
    "    Cheadpos=x.headpos\n",
    "    Pdep=x.dep_bef\n",
    "    Pheadpos=x.headpos_bef\n",
    "    PCe=str(x.energy_bef)+str(x.energy)\n",
    "    PCp=str(x.pitch_bef)+str(x.pitch)\n",
    "    PCp_PCe=str(x.pitch_bef)+str(x.pitch)+\"_\"+str(x.energy_bef)+str(x.energy)\n",
    "    \n",
    "    cmpt=0             \n",
    "    if x.after_marker!=1:\n",
    "        if PCpos in dict_PC_PCe.keys() and PCe in dict_PC_PCe[PCpos]:\n",
    "            cmpt+=1\n",
    "        if PCpos in dict_PC_PCp.keys() and PCp in dict_PC_PCp[PCpos]:\n",
    "            cmpt+=1\n",
    "        if PCpos in dict_PC_PCpe.keys() and PCp_PCe in dict_PC_PCpe[PCpos]:\n",
    "            cmpt+=1\n",
    "        if PCpos in dict_PC_Cdep.keys() and Cdep in dict_PC_Cdep[PCpos]:\n",
    "            cmpt+=1\n",
    "        if PCpos in dict_PC_Pdep.keys() and Pdep in dict_PC_Pdep[PCpos]:\n",
    "            cmpt+=1\n",
    "        if PCpos in dict_PC_Pheadpos.keys() and Pheadpos in dict_PC_Pheadpos[PCpos]:\n",
    "            cmpt+=1\n",
    "        if PCpos in dict_PC_Cheadpos.keys() and Cheadpos in dict_PC_Cheadpos[PCpos]:\n",
    "            cmpt+=1\n",
    "    # if word belongs to 4 combinations at least : BOS \n",
    "        if cmpt>=4: \n",
    "            return BOS\n",
    "    \n",
    "    return ABSTAIN\n",
    "    \n",
    "\n",
    "\n",
    "# If ToNy detects a Segment -> Begin of Segment (BOS)\n",
    "@labeling_function(pre=[word_context_markers])\n",
    "def tony_realturns(x):\n",
    "   # if x.word in beg_markers and x[\"tony_realturns\"]==1 and x.first_marker!=1:\n",
    "    #    return ABSTAIN\n",
    "    #elif x[\"tony_realturns\"]==1 and x.after_marker!=1:\n",
    "    #    return BOS \n",
    "    if x.tony_realturns==1:\n",
    "        return BOS\n",
    "    return ABSTAIN"
   ]
  },
  {
   "cell_type": "markdown",
   "metadata": {},
   "source": [
    "#### Pre-processor : spacy"
   ]
  },
  {
   "cell_type": "code",
   "execution_count": 15,
   "metadata": {},
   "outputs": [],
   "source": [
    "# If word is a specific type -> NO\n",
    "@labeling_function(pre=[spacy])\n",
    "def no_type(x):\n",
    "    \"\"\"Ham comments mention specific people and are short.\"\"\"\n",
    "    if  any([(token.pos_ == \"ADJ\" or token.pos_ == \"DET\" or token.pos_ == \"AUX\" or token.pos_ == \"VERB\") for token in x.doc]) :\n",
    "        return NO\n",
    "    else:\n",
    "        return ABSTAIN\n",
    "\n"
   ]
  },
  {
   "cell_type": "markdown",
   "metadata": {},
   "source": [
    "## 5. Application of the rules on the 3 sets"
   ]
  },
  {
   "cell_type": "code",
   "execution_count": 17,
   "metadata": {},
   "outputs": [
    {
     "name": "stderr",
     "output_type": "stream",
     "text": [
      "/users/linto/lgravell/.conda/envs/linto/lib/python3.8/site-packages/tqdm/std.py:699: FutureWarning: The Panel class is removed from pandas. Accessing it from the top-level namespace will also be removed in the next version\n",
      "  from pandas import Panel\n",
      "100%|██████████| 9752/9752 [00:49<00:00, 198.32it/s]\n",
      "100%|██████████| 8833/8833 [00:44<00:00, 199.74it/s]\n",
      "100%|██████████| 53692/53692 [04:32<00:00, 197.38it/s]\n"
     ]
    }
   ],
   "source": [
    "from snorkel.labeling import PandasLFApplier\n",
    "# list of rules wanted to annotate the corpus\n",
    "lfs=[ cconj, tony_realturns, first_marker,  no_type, no_sil_bef, no_after_markers, no_disfluency,\n",
    "     period_bef, keywords, nothing_bef, spacy_audio_combinations, beg_real_turn]\n",
    "\n",
    "\n",
    "\n",
    "applier = PandasLFApplier(lfs=lfs)\n",
    "L_dev = applier.apply(df=df_dev)\n",
    "L_test = applier.apply(df=df_test)\n",
    "L_train = applier.apply(df=df_train)"
   ]
  },
  {
   "cell_type": "markdown",
   "metadata": {},
   "source": [
    "### Coverage evaluation"
   ]
  },
  {
   "cell_type": "code",
   "execution_count": 18,
   "metadata": {},
   "outputs": [
    {
     "name": "stdout",
     "output_type": "stream",
     "text": [
      "LabelingFunction cconj, Preprocessors: [] coverage: 0.9%\n",
      "LabelingFunction tony_realturns, Preprocessors: [LambdaMapper word_context_markers, Pre: []] coverage: 11.9%\n",
      "LabelingFunction first_marker, Preprocessors: [LambdaMapper word_context_markers, Pre: []] coverage: 4.5%\n",
      "LabelingFunction no_type, Preprocessors: [SpacyPreprocessor SpacyPreprocessor, Pre: []] coverage: 34.5%\n",
      "LabelingFunction no_sil_bef, Preprocessors: [LambdaMapper word_context_markers, Pre: []] coverage: 66.5%\n",
      "LabelingFunction no_after_markers, Preprocessors: [LambdaMapper word_context_markers, Pre: []] coverage: 6.7%\n",
      "LabelingFunction no_disfluency, Preprocessors: [] coverage: 17.5%\n",
      "LabelingFunction period_bef, Preprocessors: [] coverage: 6.7%\n",
      "LabelingFunction keywords, Preprocessors: [LambdaMapper word_context_markers, Pre: []] coverage: 1.8%\n",
      "LabelingFunction nothing_bef, Preprocessors: [] coverage: 49.6%\n",
      "LabelingFunction spacy_audio_combinations, Preprocessors: [LambdaMapper word_context_markers, Pre: []] coverage: 3.2%\n",
      "LabelingFunction beg_real_turn, Preprocessors: [] coverage: 4.0%\n"
     ]
    }
   ],
   "source": [
    "coverage = (L_train != ABSTAIN).mean(axis=0)\n",
    "i=0\n",
    "for score in list(coverage):\n",
    "    print(lfs[i], f\"coverage: {score * 100:.1f}%\")\n",
    "    i+=1\n"
   ]
  },
  {
   "cell_type": "markdown",
   "metadata": {},
   "source": [
    "### L_train observation"
   ]
  },
  {
   "cell_type": "code",
   "execution_count": 19,
   "metadata": {},
   "outputs": [
    {
     "data": {
      "text/html": [
       "<div>\n",
       "<style scoped>\n",
       "    .dataframe tbody tr th:only-of-type {\n",
       "        vertical-align: middle;\n",
       "    }\n",
       "\n",
       "    .dataframe tbody tr th {\n",
       "        vertical-align: top;\n",
       "    }\n",
       "\n",
       "    .dataframe thead th {\n",
       "        text-align: right;\n",
       "    }\n",
       "</style>\n",
       "<table border=\"1\" class=\"dataframe\">\n",
       "  <thead>\n",
       "    <tr style=\"text-align: right;\">\n",
       "      <th></th>\n",
       "      <th>j</th>\n",
       "      <th>Polarity</th>\n",
       "      <th>Coverage</th>\n",
       "      <th>Overlaps</th>\n",
       "      <th>Conflicts</th>\n",
       "    </tr>\n",
       "  </thead>\n",
       "  <tbody>\n",
       "    <tr>\n",
       "      <th>cconj</th>\n",
       "      <td>0</td>\n",
       "      <td>[1]</td>\n",
       "      <td>0.009424</td>\n",
       "      <td>0.009257</td>\n",
       "      <td>0.002868</td>\n",
       "    </tr>\n",
       "    <tr>\n",
       "      <th>tony_realturns</th>\n",
       "      <td>1</td>\n",
       "      <td>[1]</td>\n",
       "      <td>0.118807</td>\n",
       "      <td>0.100499</td>\n",
       "      <td>0.052559</td>\n",
       "    </tr>\n",
       "    <tr>\n",
       "      <th>first_marker</th>\n",
       "      <td>2</td>\n",
       "      <td>[1]</td>\n",
       "      <td>0.044588</td>\n",
       "      <td>0.037361</td>\n",
       "      <td>0.014416</td>\n",
       "    </tr>\n",
       "    <tr>\n",
       "      <th>no_type</th>\n",
       "      <td>3</td>\n",
       "      <td>[0]</td>\n",
       "      <td>0.344763</td>\n",
       "      <td>0.329248</td>\n",
       "      <td>0.022704</td>\n",
       "    </tr>\n",
       "    <tr>\n",
       "      <th>no_sil_bef</th>\n",
       "      <td>4</td>\n",
       "      <td>[0]</td>\n",
       "      <td>0.665500</td>\n",
       "      <td>0.560903</td>\n",
       "      <td>0.045240</td>\n",
       "    </tr>\n",
       "    <tr>\n",
       "      <th>no_after_markers</th>\n",
       "      <td>5</td>\n",
       "      <td>[0]</td>\n",
       "      <td>0.066602</td>\n",
       "      <td>0.051367</td>\n",
       "      <td>0.006835</td>\n",
       "    </tr>\n",
       "    <tr>\n",
       "      <th>no_disfluency</th>\n",
       "      <td>6</td>\n",
       "      <td>[0]</td>\n",
       "      <td>0.175147</td>\n",
       "      <td>0.155759</td>\n",
       "      <td>0.027565</td>\n",
       "    </tr>\n",
       "    <tr>\n",
       "      <th>period_bef</th>\n",
       "      <td>7</td>\n",
       "      <td>[1]</td>\n",
       "      <td>0.066565</td>\n",
       "      <td>0.059711</td>\n",
       "      <td>0.026503</td>\n",
       "    </tr>\n",
       "    <tr>\n",
       "      <th>keywords</th>\n",
       "      <td>8</td>\n",
       "      <td>[1]</td>\n",
       "      <td>0.017675</td>\n",
       "      <td>0.017284</td>\n",
       "      <td>0.012907</td>\n",
       "    </tr>\n",
       "    <tr>\n",
       "      <th>nothing_bef</th>\n",
       "      <td>9</td>\n",
       "      <td>[0]</td>\n",
       "      <td>0.495772</td>\n",
       "      <td>0.453494</td>\n",
       "      <td>0.006556</td>\n",
       "    </tr>\n",
       "    <tr>\n",
       "      <th>spacy_audio_combinations</th>\n",
       "      <td>10</td>\n",
       "      <td>[1]</td>\n",
       "      <td>0.031606</td>\n",
       "      <td>0.029017</td>\n",
       "      <td>0.012311</td>\n",
       "    </tr>\n",
       "    <tr>\n",
       "      <th>beg_real_turn</th>\n",
       "      <td>11</td>\n",
       "      <td>[1]</td>\n",
       "      <td>0.039820</td>\n",
       "      <td>0.039764</td>\n",
       "      <td>0.021027</td>\n",
       "    </tr>\n",
       "  </tbody>\n",
       "</table>\n",
       "</div>"
      ],
      "text/plain": [
       "                           j Polarity  Coverage  Overlaps  Conflicts\n",
       "cconj                     0   [1]      0.009424  0.009257  0.002868 \n",
       "tony_realturns            1   [1]      0.118807  0.100499  0.052559 \n",
       "first_marker              2   [1]      0.044588  0.037361  0.014416 \n",
       "no_type                   3   [0]      0.344763  0.329248  0.022704 \n",
       "no_sil_bef                4   [0]      0.665500  0.560903  0.045240 \n",
       "no_after_markers          5   [0]      0.066602  0.051367  0.006835 \n",
       "no_disfluency             6   [0]      0.175147  0.155759  0.027565 \n",
       "period_bef                7   [1]      0.066565  0.059711  0.026503 \n",
       "keywords                  8   [1]      0.017675  0.017284  0.012907 \n",
       "nothing_bef               9   [0]      0.495772  0.453494  0.006556 \n",
       "spacy_audio_combinations  10  [1]      0.031606  0.029017  0.012311 \n",
       "beg_real_turn             11  [1]      0.039820  0.039764  0.021027 "
      ]
     },
     "execution_count": 19,
     "metadata": {},
     "output_type": "execute_result"
    }
   ],
   "source": [
    "# train summary \n",
    "from snorkel.labeling import LFAnalysis\n",
    "LFAnalysis(L=L_train, lfs=lfs).lf_summary()"
   ]
  },
  {
   "cell_type": "code",
   "execution_count": 20,
   "metadata": {},
   "outputs": [
    {
     "name": "stdout",
     "output_type": "stream",
     "text": [
      "                           j Polarity  Coverage  Overlaps  Conflicts\n",
      "cconj                     0   [1]      0.009424  0.009257  0.002868 \n",
      "tony_realturns            1   [1]      0.118807  0.100499  0.052559 \n",
      "first_marker              2   [1]      0.044588  0.037361  0.014416 \n",
      "no_type                   3   [0]      0.344763  0.329248  0.022704 \n",
      "no_sil_bef                4   [0]      0.665500  0.560903  0.045240 \n",
      "no_after_markers          5   [0]      0.066602  0.051367  0.006835 \n",
      "no_disfluency             6   [0]      0.175147  0.155759  0.027565 \n",
      "period_bef                7   [1]      0.066565  0.059711  0.026503 \n",
      "keywords                  8   [1]      0.017675  0.017284  0.012907 \n",
      "nothing_bef               9   [0]      0.495772  0.453494  0.006556 \n",
      "spacy_audio_combinations  10  [1]      0.031606  0.029017  0.012311 \n",
      "beg_real_turn             11  [1]      0.039820  0.039764  0.021027 \n"
     ]
    }
   ],
   "source": [
    "print(LFAnalysis(L=L_train, lfs=lfs).lf_summary())"
   ]
  },
  {
   "cell_type": "markdown",
   "metadata": {},
   "source": [
    "### Analysis of the rules on dev set"
   ]
  },
  {
   "cell_type": "code",
   "execution_count": 83,
   "metadata": {},
   "outputs": [
    {
     "data": {
      "text/html": [
       "<div>\n",
       "<style scoped>\n",
       "    .dataframe tbody tr th:only-of-type {\n",
       "        vertical-align: middle;\n",
       "    }\n",
       "\n",
       "    .dataframe tbody tr th {\n",
       "        vertical-align: top;\n",
       "    }\n",
       "\n",
       "    .dataframe thead th {\n",
       "        text-align: right;\n",
       "    }\n",
       "</style>\n",
       "<table border=\"1\" class=\"dataframe\">\n",
       "  <thead>\n",
       "    <tr style=\"text-align: right;\">\n",
       "      <th></th>\n",
       "      <th>j</th>\n",
       "      <th>Polarity</th>\n",
       "      <th>Coverage</th>\n",
       "      <th>Overlaps</th>\n",
       "      <th>Conflicts</th>\n",
       "      <th>Correct</th>\n",
       "      <th>Incorrect</th>\n",
       "      <th>Emp. Acc.</th>\n",
       "    </tr>\n",
       "  </thead>\n",
       "  <tbody>\n",
       "    <tr>\n",
       "      <th>cconj</th>\n",
       "      <td>0</td>\n",
       "      <td>[1]</td>\n",
       "      <td>0.008203</td>\n",
       "      <td>0.008101</td>\n",
       "      <td>0.002461</td>\n",
       "      <td>71</td>\n",
       "      <td>9</td>\n",
       "      <td>0.887500</td>\n",
       "    </tr>\n",
       "    <tr>\n",
       "      <th>tony_realturns</th>\n",
       "      <td>1</td>\n",
       "      <td>[1]</td>\n",
       "      <td>0.111874</td>\n",
       "      <td>0.096903</td>\n",
       "      <td>0.047888</td>\n",
       "      <td>817</td>\n",
       "      <td>274</td>\n",
       "      <td>0.748854</td>\n",
       "    </tr>\n",
       "    <tr>\n",
       "      <th>first_marker</th>\n",
       "      <td>2</td>\n",
       "      <td>[1]</td>\n",
       "      <td>0.051169</td>\n",
       "      <td>0.042350</td>\n",
       "      <td>0.016817</td>\n",
       "      <td>338</td>\n",
       "      <td>161</td>\n",
       "      <td>0.677355</td>\n",
       "    </tr>\n",
       "    <tr>\n",
       "      <th>no_type</th>\n",
       "      <td>3</td>\n",
       "      <td>[0]</td>\n",
       "      <td>0.331317</td>\n",
       "      <td>0.315217</td>\n",
       "      <td>0.020816</td>\n",
       "      <td>3108</td>\n",
       "      <td>123</td>\n",
       "      <td>0.961931</td>\n",
       "    </tr>\n",
       "    <tr>\n",
       "      <th>no_sil_bef</th>\n",
       "      <td>4</td>\n",
       "      <td>[0]</td>\n",
       "      <td>0.624180</td>\n",
       "      <td>0.521637</td>\n",
       "      <td>0.033634</td>\n",
       "      <td>5884</td>\n",
       "      <td>203</td>\n",
       "      <td>0.966650</td>\n",
       "    </tr>\n",
       "    <tr>\n",
       "      <th>no_after_markers</th>\n",
       "      <td>5</td>\n",
       "      <td>[0]</td>\n",
       "      <td>0.074754</td>\n",
       "      <td>0.058039</td>\n",
       "      <td>0.007486</td>\n",
       "      <td>686</td>\n",
       "      <td>43</td>\n",
       "      <td>0.941015</td>\n",
       "    </tr>\n",
       "    <tr>\n",
       "      <th>no_disfluency</th>\n",
       "      <td>6</td>\n",
       "      <td>[0]</td>\n",
       "      <td>0.235747</td>\n",
       "      <td>0.206624</td>\n",
       "      <td>0.033532</td>\n",
       "      <td>2121</td>\n",
       "      <td>178</td>\n",
       "      <td>0.922575</td>\n",
       "    </tr>\n",
       "    <tr>\n",
       "      <th>period_bef</th>\n",
       "      <td>7</td>\n",
       "      <td>[1]</td>\n",
       "      <td>0.064705</td>\n",
       "      <td>0.058552</td>\n",
       "      <td>0.024713</td>\n",
       "      <td>449</td>\n",
       "      <td>182</td>\n",
       "      <td>0.711569</td>\n",
       "    </tr>\n",
       "    <tr>\n",
       "      <th>keywords</th>\n",
       "      <td>8</td>\n",
       "      <td>[1]</td>\n",
       "      <td>0.015279</td>\n",
       "      <td>0.015074</td>\n",
       "      <td>0.011280</td>\n",
       "      <td>88</td>\n",
       "      <td>61</td>\n",
       "      <td>0.590604</td>\n",
       "    </tr>\n",
       "    <tr>\n",
       "      <th>nothing_bef</th>\n",
       "      <td>9</td>\n",
       "      <td>[0]</td>\n",
       "      <td>0.475185</td>\n",
       "      <td>0.427605</td>\n",
       "      <td>0.005435</td>\n",
       "      <td>4618</td>\n",
       "      <td>16</td>\n",
       "      <td>0.996547</td>\n",
       "    </tr>\n",
       "    <tr>\n",
       "      <th>spacy_audio_combinations</th>\n",
       "      <td>10</td>\n",
       "      <td>[1]</td>\n",
       "      <td>0.034762</td>\n",
       "      <td>0.031686</td>\n",
       "      <td>0.010870</td>\n",
       "      <td>255</td>\n",
       "      <td>84</td>\n",
       "      <td>0.752212</td>\n",
       "    </tr>\n",
       "    <tr>\n",
       "      <th>beg_real_turn</th>\n",
       "      <td>11</td>\n",
       "      <td>[1]</td>\n",
       "      <td>0.030968</td>\n",
       "      <td>0.030865</td>\n",
       "      <td>0.016099</td>\n",
       "      <td>298</td>\n",
       "      <td>4</td>\n",
       "      <td>0.986755</td>\n",
       "    </tr>\n",
       "  </tbody>\n",
       "</table>\n",
       "</div>"
      ],
      "text/plain": [
       "                           j Polarity  Coverage  Overlaps  Conflicts  Correct  \\\n",
       "cconj                     0   [1]      0.008203  0.008101  0.002461   71        \n",
       "tony_realturns            1   [1]      0.111874  0.096903  0.047888   817       \n",
       "first_marker              2   [1]      0.051169  0.042350  0.016817   338       \n",
       "no_type                   3   [0]      0.331317  0.315217  0.020816   3108      \n",
       "no_sil_bef                4   [0]      0.624180  0.521637  0.033634   5884      \n",
       "no_after_markers          5   [0]      0.074754  0.058039  0.007486   686       \n",
       "no_disfluency             6   [0]      0.235747  0.206624  0.033532   2121      \n",
       "period_bef                7   [1]      0.064705  0.058552  0.024713   449       \n",
       "keywords                  8   [1]      0.015279  0.015074  0.011280   88        \n",
       "nothing_bef               9   [0]      0.475185  0.427605  0.005435   4618      \n",
       "spacy_audio_combinations  10  [1]      0.034762  0.031686  0.010870   255       \n",
       "beg_real_turn             11  [1]      0.030968  0.030865  0.016099   298       \n",
       "\n",
       "                          Incorrect  Emp. Acc.  \n",
       "cconj                     9          0.887500   \n",
       "tony_realturns            274        0.748854   \n",
       "first_marker              161        0.677355   \n",
       "no_type                   123        0.961931   \n",
       "no_sil_bef                203        0.966650   \n",
       "no_after_markers          43         0.941015   \n",
       "no_disfluency             178        0.922575   \n",
       "period_bef                182        0.711569   \n",
       "keywords                  61         0.590604   \n",
       "nothing_bef               16         0.996547   \n",
       "spacy_audio_combinations  84         0.752212   \n",
       "beg_real_turn             4          0.986755   "
      ]
     },
     "execution_count": 83,
     "metadata": {},
     "output_type": "execute_result"
    }
   ],
   "source": [
    "# dev summary \n",
    "from snorkel.labeling import LFAnalysis\n",
    "dev_rules_results=LFAnalysis(L=L_dev, lfs=lfs).lf_summary(Y_dev)\n",
    "dev_rules_results"
   ]
  },
  {
   "cell_type": "markdown",
   "metadata": {},
   "source": [
    "### BOS rules score"
   ]
  },
  {
   "cell_type": "code",
   "execution_count": 50,
   "metadata": {
    "scrolled": true
   },
   "outputs": [
    {
     "data": {
      "text/html": [
       "<div>\n",
       "<style scoped>\n",
       "    .dataframe tbody tr th:only-of-type {\n",
       "        vertical-align: middle;\n",
       "    }\n",
       "\n",
       "    .dataframe tbody tr th {\n",
       "        vertical-align: top;\n",
       "    }\n",
       "\n",
       "    .dataframe thead th {\n",
       "        text-align: right;\n",
       "    }\n",
       "</style>\n",
       "<table border=\"1\" class=\"dataframe\">\n",
       "  <thead>\n",
       "    <tr style=\"text-align: right;\">\n",
       "      <th></th>\n",
       "      <th>rule</th>\n",
       "      <th>precision</th>\n",
       "      <th>recall</th>\n",
       "      <th>fscore</th>\n",
       "    </tr>\n",
       "  </thead>\n",
       "  <tbody>\n",
       "    <tr>\n",
       "      <th>0</th>\n",
       "      <td>cconj</td>\n",
       "      <td>0.887500</td>\n",
       "      <td>0.062281</td>\n",
       "      <td>0.116393</td>\n",
       "    </tr>\n",
       "    <tr>\n",
       "      <th>1</th>\n",
       "      <td>tony_realturns</td>\n",
       "      <td>0.748854</td>\n",
       "      <td>0.716667</td>\n",
       "      <td>0.732407</td>\n",
       "    </tr>\n",
       "    <tr>\n",
       "      <th>2</th>\n",
       "      <td>first_marker</td>\n",
       "      <td>0.677355</td>\n",
       "      <td>0.296491</td>\n",
       "      <td>0.412447</td>\n",
       "    </tr>\n",
       "    <tr>\n",
       "      <th>3</th>\n",
       "      <td>period_bef</td>\n",
       "      <td>0.711569</td>\n",
       "      <td>0.393860</td>\n",
       "      <td>0.507058</td>\n",
       "    </tr>\n",
       "    <tr>\n",
       "      <th>4</th>\n",
       "      <td>keywords</td>\n",
       "      <td>0.590604</td>\n",
       "      <td>0.077193</td>\n",
       "      <td>0.136540</td>\n",
       "    </tr>\n",
       "    <tr>\n",
       "      <th>5</th>\n",
       "      <td>spacy_audio_combinations</td>\n",
       "      <td>0.752212</td>\n",
       "      <td>0.223684</td>\n",
       "      <td>0.344828</td>\n",
       "    </tr>\n",
       "    <tr>\n",
       "      <th>6</th>\n",
       "      <td>beg_real_turn</td>\n",
       "      <td>0.986755</td>\n",
       "      <td>0.261404</td>\n",
       "      <td>0.413315</td>\n",
       "    </tr>\n",
       "  </tbody>\n",
       "</table>\n",
       "</div>"
      ],
      "text/plain": [
       "                       rule  precision    recall    fscore\n",
       "0  cconj                     0.887500   0.062281  0.116393\n",
       "1  tony_realturns            0.748854   0.716667  0.732407\n",
       "2  first_marker              0.677355   0.296491  0.412447\n",
       "3  period_bef                0.711569   0.393860  0.507058\n",
       "4  keywords                  0.590604   0.077193  0.136540\n",
       "5  spacy_audio_combinations  0.752212   0.223684  0.344828\n",
       "6  beg_real_turn             0.986755   0.261404  0.413315"
      ]
     },
     "execution_count": 50,
     "metadata": {},
     "output_type": "execute_result"
    }
   ],
   "source": [
    "s1=Y_dev.sum() # N of positive points\n",
    "s0=len(Y_dev)-s1 \n",
    "\n",
    "rule=[]\n",
    "p=[]\n",
    "r=[]\n",
    "fscore=[]\n",
    "rule=[]\n",
    "\n",
    "for x in a.itertuples():\n",
    "    if x.Polarity==[1]:\n",
    "        # precision = TP / (TP + FP ) \n",
    "        precision=int(x.Correct)/(int(x.Correct)+int(x.Incorrect))\n",
    "        p.append(precision)\n",
    "        # recall = TP /(TP + FN )\n",
    "        recall=(x.Correct)/(int(x.Correct)+(int(s1-x.Correct)))\n",
    "        r.append(recall)\n",
    "        # fscore= 2.(p.r / (p+r))\n",
    "        fscore.append(2*precision*recall/(precision+recall))\n",
    "        rule.append(x.Index)\n",
    "\n",
    "df_scores=pd.DataFrame({'rule': rule, 'precision': p, 'recall': r, 'fscore': fscore})\n",
    "df_scores"
   ]
  },
  {
   "cell_type": "markdown",
   "metadata": {},
   "source": [
    "## 6. Generative Model"
   ]
  },
  {
   "cell_type": "markdown",
   "metadata": {},
   "source": [
    "### Generative model creation"
   ]
  },
  {
   "cell_type": "code",
   "execution_count": 69,
   "metadata": {},
   "outputs": [],
   "source": [
    "from snorkel.labeling.model import MajorityLabelVoter\n",
    "\n",
    "majority_model = MajorityLabelVoter()\n",
    "preds_dev = majority_model.predict(L=L_train)"
   ]
  },
  {
   "cell_type": "code",
   "execution_count": 70,
   "metadata": {},
   "outputs": [],
   "source": [
    "from snorkel.labeling.model import LabelModel\n",
    "\n",
    "label_model = LabelModel(cardinality=2, verbose=True)\n",
    "label_model.fit(L_train=L_train,Y_dev=Y_dev, n_epochs=7000, seed=123)\n"
   ]
  },
  {
   "cell_type": "code",
   "execution_count": 71,
   "metadata": {},
   "outputs": [
    {
     "name": "stdout",
     "output_type": "stream",
     "text": [
      "Majority Vote Accuracy:   89.3%\n",
      "Label Model Accuracy:     91.1%\n"
     ]
    }
   ],
   "source": [
    "majority_acc = majority_model.score(L=L_test, Y=Y_test, tie_break_policy=\"random\")[\n",
    "    \"accuracy\"\n",
    "]\n",
    "print(f\"{'Majority Vote Accuracy:':<25} {majority_acc * 100:.1f}%\")\n",
    "\n",
    "label_model_acc = label_model.score(L=L_test, Y=Y_test, tie_break_policy=\"random\")[\n",
    "    \"accuracy\"\n",
    "]\n",
    "print(f\"{'Label Model Accuracy:':<25} {label_model_acc * 100:.1f}%\")"
   ]
  },
  {
   "cell_type": "markdown",
   "metadata": {},
   "source": [
    "### Evaluation of the generative model's output"
   ]
  },
  {
   "cell_type": "code",
   "execution_count": 72,
   "metadata": {},
   "outputs": [
    {
     "name": "stdout",
     "output_type": "stream",
     "text": [
      "Label model f1 score: 0.6889279437609842\n",
      "Label model precision score: 0.6901408450704225\n",
      "Label model recall score: 0.6877192982456141\n",
      "Label model roc-auc: 0.9269482199460566\n"
     ]
    }
   ],
   "source": [
    "# dev \n",
    "from snorkel.analysis import metric_score\n",
    "from snorkel.utils import probs_to_preds\n",
    "probs_dev = label_model.predict_proba(L_dev)\n",
    "preds_dev = probs_to_preds(probs_dev)\n",
    "print(\n",
    "    f\"Label model f1 score: {metric_score(Y_dev, preds_dev, probs=probs_dev, metric='f1')}\",\n",
    "    f\"Label model precision score: {metric_score(Y_dev, preds_dev, probs=probs_dev, metric='precision')}\",\n",
    "    f\"Label model recall score: {metric_score(Y_dev, preds_dev, probs=probs_dev, metric='recall')}\",\n",
    "    f\"Label model roc-auc: {metric_score(Y_dev, preds_dev, probs=probs_dev, metric='roc_auc')}\",\n",
    "    sep = \"\\n\"\n",
    ")"
   ]
  },
  {
   "cell_type": "code",
   "execution_count": 73,
   "metadata": {},
   "outputs": [
    {
     "name": "stdout",
     "output_type": "stream",
     "text": [
      "Label model f1 score: 0.6447249774571687\n",
      "Label model precision score: 0.6595940959409594\n",
      "Label model recall score: 0.6305114638447972\n",
      "Label model roc-auc: 0.9186997303527588\n"
     ]
    }
   ],
   "source": [
    "# test\n",
    "from snorkel.analysis import metric_score\n",
    "from snorkel.utils import probs_to_preds\n",
    "probs_test = label_model.predict_proba(L_test)\n",
    "preds_test = probs_to_preds(probs_test)\n",
    "print(\n",
    "    f\"Label model f1 score: {metric_score(Y_test, preds_test, probs=probs_test, metric='f1')}\",\n",
    "    f\"Label model precision score: {metric_score(Y_test, preds_test, probs=probs_test, metric='precision')}\",\n",
    "    f\"Label model recall score: {metric_score(Y_test, preds_test, probs=probs_test, metric='recall')}\",\n",
    "    f\"Label model roc-auc: {metric_score(Y_test, preds_test, probs=probs_test, metric='roc_auc')}\",\n",
    "    sep = \"\\n\"\n",
    ")"
   ]
  },
  {
   "cell_type": "markdown",
   "metadata": {},
   "source": [
    "### Threshold settings"
   ]
  },
  {
   "cell_type": "code",
   "execution_count": 89,
   "metadata": {},
   "outputs": [
    {
     "name": "stdout",
     "output_type": "stream",
     "text": [
      "<class 'numpy.ndarray'>\n",
      "0.1941941941941942\n"
     ]
    },
    {
     "name": "stderr",
     "output_type": "stream",
     "text": [
      "/users/linto/lgravell/.conda/envs/linto/lib/python3.8/site-packages/sklearn/metrics/classification.py:1436: UndefinedMetricWarning: F-score is ill-defined and being set to 0.0 due to no predicted samples.\n",
      "  precision = _prf_divide(tp_sum, pred_sum,\n"
     ]
    },
    {
     "data": {
      "text/plain": [
       "Text(0, 0.5, 'fscore of generative model')"
      ]
     },
     "execution_count": 89,
     "metadata": {},
     "output_type": "execute_result"
    },
    {
     "data": {
      "image/png": "[encoded data removed]",
      "text/plain": [
       "<Figure size 432x288 with 1 Axes>"
      ]
     },
     "metadata": {
      "needs_background": "light"
     },
     "output_type": "display_data"
    }
   ],
   "source": [
    "#calcul seuil\n",
    "print(type(preds_dev))\n",
    "\n",
    "label=[]\n",
    "for Ve in probs_dev:\n",
    "    if  e[1]>0.194:\n",
    "        label.append(1)\n",
    "    else:\n",
    "        label.append(0)\n",
    "preds_dev=np.array(label)\n",
    "\n",
    "f1=[]\n",
    "tresh_list=np.linspace(0,1,1000)\n",
    "label=[]\n",
    "for t in tresh_list:\n",
    "    label=[]\n",
    "    for e in probs_dev:\n",
    "        if  e[1]>t:\n",
    "            label.append(1)\n",
    "        else:\n",
    "            label.append(0)\n",
    "            \n",
    "    preds_dev=np.array(label)\n",
    "    f1.append(metric_score(Y_dev, preds_dev, probs=probs_dev, metric='f1'))\n",
    "    \n",
    "import matplotlib.pyplot as plt\n",
    "\n",
    "print(tresh_list[np.argmax(f1)])\n",
    "treshold= tresh_list[np.argmax(f1)]\n",
    "plt.plot(e1_list, f1)\n",
    "plt.xlabel('probability treshold')\n",
    "plt.ylabel('fscore of generative model')"
   ]
  },
  {
   "cell_type": "markdown",
   "metadata": {},
   "source": [
    "### Segeval evaluation"
   ]
  },
  {
   "cell_type": "code",
   "execution_count": 85,
   "metadata": {},
   "outputs": [
    {
     "name": "stdout",
     "output_type": "stream",
     "text": [
      "Boundary Similarity =  0.5429447852760736196319018405\n",
      "Boundary Similarity tony alone =  0.5971922246220302375809935205\n",
      "Segmentation Similarity =  0.9312448728465955701394585726\n",
      "entropie croisée =  0.01727750023786382\n"
     ]
    }
   ],
   "source": [
    "import segeval as se\n",
    "\n",
    "label=[]\n",
    "for e in probs_dev:\n",
    "    if e[1]>e[0] and e[1]>treshold:\n",
    "        label.append(1)\n",
    "    else:\n",
    "        label.append(0)\n",
    "tony_list=[]       \n",
    "for x in df_dev.itertuples():\n",
    "    tony_list.append(x.tony_realturns)\n",
    "\n",
    "#print(len(Y_dev), len(label))\n",
    "gold_nltk=\"\"\n",
    "result_nltk=\"\"\n",
    "tony_nltk=\"\"\n",
    "\n",
    "\n",
    "for i in range(0,len(Y_dev)):\n",
    "    gold_nltk+=str(Y_dev[i])\n",
    "    result_nltk+=str(label[i])\n",
    "    tony_nltk+=str(tony_list[i])\n",
    "\n",
    "#print(len(gold_str), len(result_str))\n",
    "gold_masses=se.convert_nltk_to_masses(gold_nltk, boundary_symbol='1')\n",
    "result_masses=se.convert_nltk_to_masses(result_nltk, boundary_symbol='1')\n",
    "tony_masses=se.convert_nltk_to_masses(tony_nltk, boundary_symbol='1')\n",
    "nt=2\n",
    "print(\"Boundary Similarity = \", se.boundary_similarity(gold_masses, result_masses, n_t=nt))\n",
    "print(\"Boundary Similarity tony alone = \", se.boundary_similarity(gold_masses, tony_masses, n_t=nt))\n",
    "\n",
    "gold_str=se.boundary_string_from_masses(gold_masses)\n",
    "result_str=se.boundary_string_from_masses(result_masses)\n",
    "\n",
    "edit_distance=se.boundary_edit_distance(gold_str, result_str,3)\n",
    "#convert_masses_to_positions(masses)\n",
    "gold_positions=se.convert_masses_to_positions(gold_masses)\n",
    "result_positions=se.convert_masses_to_positions(result_masses)\n",
    "\n",
    "\n",
    "print(\"Segmentation Similarity = \",se.segmentation_similarity(gold_masses, result_masses))\n",
    "\n",
    "\n",
    "# Cross Entropy\n",
    "from math import *\n",
    "\n",
    "ec=0\n",
    "for i in range(0, len(probs_dev)):\n",
    "    ec+=log(probs_dev[i][1])*label[i]\n",
    "    \n",
    "ec=-ec/len(probs_dev)\n",
    "\n",
    "print(\"Cross Entropy = \", ec)"
   ]
  },
  {
   "cell_type": "markdown",
   "metadata": {},
   "source": [
    "## 7. Analysis of the results"
   ]
  },
  {
   "cell_type": "markdown",
   "metadata": {},
   "source": [
    "### Label distribution on the corpus"
   ]
  },
  {
   "cell_type": "code",
   "execution_count": 76,
   "metadata": {},
   "outputs": [
    {
     "data": {
      "image/png": "[encoded data removed]",
      "text/plain": [
       "<Figure size 432x288 with 1 Axes>"
      ]
     },
     "metadata": {
      "needs_background": "light"
     },
     "output_type": "display_data"
    }
   ],
   "source": [
    "np.around(label_model.get_weights(), 2) \n",
    "import matplotlib.pyplot as plt\n",
    "\n",
    "\n",
    "def plot_probabilities_histogram(Y):\n",
    "    plt.hist(Y, bins=10)\n",
    "    plt.xlabel(\"Probability of BOS\")\n",
    "    plt.ylabel(\"Number of data points\")\n",
    "    plt.show()\n",
    "\n",
    "\n",
    "probs_train = label_model.predict_proba(L=L_train)\n",
    "plot_probabilities_histogram(probs_train[:, BOS])"
   ]
  },
  {
   "cell_type": "markdown",
   "metadata": {},
   "source": [
    "### Weights of the rules "
   ]
  },
  {
   "cell_type": "code",
   "execution_count": 77,
   "metadata": {},
   "outputs": [
    {
     "data": {
      "text/plain": [
       "array([0.86, 0.73, 0.7 , 1.  , 1.  , 0.66, 0.87, 0.77, 0.77, 1.  , 0.69,\n",
       "       0.98])"
      ]
     },
     "execution_count": 77,
     "metadata": {},
     "output_type": "execute_result"
    }
   ],
   "source": [
    "np.around(label_model.get_weights(), 2) "
   ]
  },
  {
   "cell_type": "markdown",
   "metadata": {},
   "source": [
    "### Number of labels for data points"
   ]
  },
  {
   "cell_type": "code",
   "execution_count": 78,
   "metadata": {},
   "outputs": [
    {
     "data": {
      "image/png": "[encoded data removed]",
      "text/plain": [
       "<Figure size 432x288 with 1 Axes>"
      ]
     },
     "metadata": {
      "needs_background": "light"
     },
     "output_type": "display_data"
    }
   ],
   "source": [
    "def plot_label_frequency(L):\n",
    "    plt.hist((L != ABSTAIN).sum(axis=1), density=True, bins=range(L.shape[1]))\n",
    "    plt.xlabel(\"Number of labels\")\n",
    "    plt.ylabel(\"Fraction of dataset\")\n",
    "    plt.show()\n",
    "\n",
    "\n",
    "plot_label_frequency(L_train)"
   ]
  },
  {
   "cell_type": "markdown",
   "metadata": {},
   "source": [
    "## 8. Useful files creation"
   ]
  },
  {
   "cell_type": "markdown",
   "metadata": {},
   "source": [
    "1.File for training anf fine-tuning of ToNy system\n",
    "<br>\n",
    "2.Visualization file of BOS inside the text\n",
    "<br>"
   ]
  },
  {
   "cell_type": "markdown",
   "metadata": {},
   "source": [
    "### 1. File for training anf fine-tuning of ToNy system"
   ]
  },
  {
   "cell_type": "code",
   "execution_count": 79,
   "metadata": {},
   "outputs": [
    {
     "name": "stdout",
     "output_type": "stream",
     "text": [
      "0.1941941941941942\n"
     ]
    }
   ],
   "source": [
    "treshold=tresh_list[np.argmax(f1)]\n",
    "print(treshold)\n",
    "\n",
    "# change the date\n",
    "date=\"26032021\"\n",
    "\n",
    "probs_train = label_model.predict_proba(L_train)\n",
    "\n",
    "# label separation \n",
    "\n",
    "label_train=[]\n",
    "for e in probs_train:\n",
    "    if e[1]>e[0] and e[1]>treshold:\n",
    "        label_train.append(1)\n",
    "    else:\n",
    "        label_train.append(0)\n",
    "        "
   ]
  },
  {
   "cell_type": "code",
   "execution_count": 80,
   "metadata": {},
   "outputs": [],
   "source": [
    "#file creation\n",
    "# TRAIN\n",
    "\n",
    "file_tony=open(\"file_train_tony_\"+date+\".txt\", \"w\")\n",
    "i=0\n",
    "\n",
    "for x in df_train.itertuples():\n",
    "    if x.rank_turn==0:\n",
    "        file_tony.write(\"\\n\")\n",
    "    if label_train[i]==1:\n",
    "        file_tony.write(str(x.word)+\"\\t\"+\"NN\"+\"\\t\"+\"O\"+\"\\t\"+\"B-S\"+\"\\n\")\n",
    "    else:\n",
    "        file_tony.write(str(x.word)+\"\\t\"+\"NN\"+\"\\t\"+\"O\"+\"\\t\"+\"O\"+\"\\n\")\n",
    "    i+=1\n",
    "file_tony.close()\n",
    "\n"
   ]
  },
  {
   "cell_type": "code",
   "execution_count": 248,
   "metadata": {},
   "outputs": [],
   "source": [
    "\n",
    "# DEV \n",
    "\n",
    "file_tony=open(\"file_gold_dev_tony.txt\", \"w\")\n",
    "i=0\n",
    "\n",
    "for x in df_dev.itertuples():\n",
    "    if x.rank_turn==0:\n",
    "        file_tony.write(\"\\n\")\n",
    "    if Y_dev[i]==1:\n",
    "        file_tony.write(str(x.word)+\"\\t\"+\"NN\"+\"\\t\"+\"O\"+\"\\t\"+\"B-S\"+\"\\n\")\n",
    "    else:\n",
    "        file_tony.write(str(x.word)+\"\\t\"+\"NN\"+\"\\t\"+\"O\"+\"\\t\"+\"O\"+\"\\n\")\n",
    "    i+=1\n",
    "\n",
    "file_tony.close()\n",
    "\n",
    "# TEST\n",
    "\n",
    "file_tony=open(\"file_gold_test_tony.txt\", \"w\")\n",
    "i=0\n",
    "\n",
    "for x in df_test.itertuples():\n",
    "    if x.rank_turn==0:\n",
    "        file_tony.write(\"\\n\")\n",
    "    if Y_test[i]==1:\n",
    "        file_tony.write(str(x.word)+\"\\t\"+\"NN\"+\"\\t\"+\"O\"+\"\\t\"+\"B-S\"+\"\\n\")\n",
    "    else:\n",
    "        file_tony.write(str(x.word)+\"\\t\"+\"NN\"+\"\\t\"+\"O\"+\"\\t\"+\"O\"+\"\\n\")\n",
    "    i+=1\n",
    "\n",
    "file_tony.close()"
   ]
  },
  {
   "cell_type": "code",
   "execution_count": 38,
   "metadata": {},
   "outputs": [],
   "source": []
  },
  {
   "cell_type": "markdown",
   "metadata": {},
   "source": [
    "### 2.Fichier de visualisation des BOS de sortie du modèle génératif , comparaison avec le GOLD"
   ]
  },
  {
   "cell_type": "code",
   "execution_count": 87,
   "metadata": {},
   "outputs": [],
   "source": [
    "# creation of a readable file to see if it qualitatively works \n",
    "\n",
    "\n",
    "label=[]\n",
    "for e in probs_dev:\n",
    "    if e[1]>e[0] and e[1]>treshold:\n",
    "        label.append(1)\n",
    "    else:\n",
    "        label.append(0)\n",
    "\n",
    "#création fichier \n",
    "\n",
    "file=open(\"readable_bos_output_generative_model_\"+date+\".txt\", \"w\")\n",
    "\n",
    "\n",
    "i=0\n",
    "liste_texte=[]\n",
    "\n",
    "for x in df_dev.itertuples():\n",
    "    mot=x.word\n",
    "    if x.real_rank_turn==0 :\n",
    "        if x.prob_period_bef<0.5 and i>0 and x.prob_comma_bef<0.5:\n",
    "            liste_texte.append(\".\")\n",
    "        liste_texte.append(\"\\n\"+\"\\n\"+\"---Spk---\"+\"\\n\"+\"\\n\")\n",
    "\n",
    "    if label[i]==1:\n",
    "        liste_texte.append(\"|D|\")\n",
    "    if Y_dev[i]==1:\n",
    "        liste_texte.append(\"|G|\")      \n",
    "    \n",
    "    \n",
    "    if x.prob_period_bef>0.5 or x.real_rank_turn==0:\n",
    "        mot=str(mot).capitalize()\n",
    "    \n",
    "    if x.prob_period>0.5:\n",
    "        mot=mot+\".\"\n",
    "\n",
    "    if x.prob_comma>0.5:\n",
    "        mot=mot+\",\"\n",
    "\n",
    "    liste_texte.append(mot)\n",
    "    \n",
    "    \n",
    "    \n",
    "\n",
    "        \n",
    "    i+=1\n",
    "    if i==len(df_dev):\n",
    "        liste_texte.append(\".\")\n",
    "\n",
    "file.write(\" \".join(liste_texte))\n",
    "\n",
    "file.close()\n",
    "    "
   ]
  },
  {
   "cell_type": "code",
   "execution_count": null,
   "metadata": {},
   "outputs": [],
   "source": []
  }
 ],
 "metadata": {
  "kernelspec": {
   "display_name": "linto",
   "language": "python",
   "name": "linto"
  },
  "language_info": {
   "codemirror_mode": {
    "name": "ipython",
    "version": 3
   },
   "file_extension": ".py",
   "mimetype": "text/x-python",
   "name": "python",
   "nbconvert_exporter": "python",
   "pygments_lexer": "ipython3",
   "version": "3.8.6"
  }
 },
 "nbformat": 4,
 "nbformat_minor": 4
}
