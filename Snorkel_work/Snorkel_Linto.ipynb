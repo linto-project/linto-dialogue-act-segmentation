{
 "cells": [
  {
   "cell_type": "markdown",
   "metadata": {},
   "source": [
    "# Snorkel Linto 🎧📔"
   ]
  },
  {
   "cell_type": "markdown",
   "metadata": {},
   "source": [
    "### Sommaire \n",
    "#### 1. Chargement des données \n",
    "#### 2. Définition des labels \n",
    "#### 3. Séparation train/test/dev\n",
    "#### 4. Ecriture des règles\n",
    "#### 5. Application des règles\n",
    "#### 6. Modèle génératif\n",
    "#### 7. Analyse résultats\n",
    "#### 8. Création fichiers utiles sur la sortie du modèle génératif \n"
   ]
  },
  {
   "cell_type": "markdown",
   "metadata": {},
   "source": [
    "## 1. Chargement des données"
   ]
  },
  {
   "cell_type": "code",
   "execution_count": 1,
   "metadata": {},
   "outputs": [],
   "source": [
    "%matplotlib inline\n",
    "import os\n",
    "import numpy as np\n",
    "\n",
    "# Turn off TensorFlow logging messages\n",
    "os.environ[\"TF_CPP_MIN_LOG_LEVEL\"] = \"3\"\n",
    "\n",
    "# For reproducibility\n",
    "os.environ[\"PYTHONHASHSEED\"] = \"0\"\n"
   ]
  },
  {
   "cell_type": "code",
   "execution_count": 2,
   "metadata": {},
   "outputs": [],
   "source": [
    "import pandas as pd\n",
    "\n",
    "\n",
    "DISPLAY_ALL_TEXT = True\n",
    "\n",
    "pd.set_option(\"display.max_colwidth\", 0 if DISPLAY_ALL_TEXT else 50)\n",
    "\n"
   ]
  },
  {
   "cell_type": "code",
   "execution_count": 3,
   "metadata": {
    "slideshow": {
     "slide_type": "-"
    }
   },
   "outputs": [],
   "source": [
    "\n",
    "import spacy\n",
    "\n",
    "nlp = spacy.load('fr_core_news_sm')\n",
    "\n",
    "\n",
    "# si pas déjà chargé: recup du modèle français\n",
    "#! python -m spacy download fr_core_news_sm\n",
    "\n"
   ]
  },
  {
   "cell_type": "code",
   "execution_count": 4,
   "metadata": {},
   "outputs": [],
   "source": [
    "# Dataframe à charger \n",
    "\n",
    "df_linto = pd.read_csv(\"../data/df_all_10022021.csv\")"
   ]
  },
  {
   "cell_type": "code",
   "execution_count": 5,
   "metadata": {},
   "outputs": [],
   "source": [
    "# Ajustements pour \"coller\" avec la tokénisation de spacy\n",
    "\n",
    "df_linto.loc[df_linto.word==\"aujourd'\", \"word\"]=\"aujourd\"\n",
    "df_linto.loc[df_linto.word==\"#0\", \"word\"]=\"0\"\n",
    "df_linto.loc[df_linto.word==\"95%\", \"word\"]=\"95\""
   ]
  },
  {
   "cell_type": "code",
   "execution_count": 6,
   "metadata": {},
   "outputs": [
    {
     "data": {
      "text/html": [
       "<div>\n",
       "<style scoped>\n",
       "    .dataframe tbody tr th:only-of-type {\n",
       "        vertical-align: middle;\n",
       "    }\n",
       "\n",
       "    .dataframe tbody tr th {\n",
       "        vertical-align: top;\n",
       "    }\n",
       "\n",
       "    .dataframe thead th {\n",
       "        text-align: right;\n",
       "    }\n",
       "</style>\n",
       "<table border=\"1\" class=\"dataframe\">\n",
       "  <thead>\n",
       "    <tr style=\"text-align: right;\">\n",
       "      <th></th>\n",
       "      <th>Unnamed: 0</th>\n",
       "      <th>word</th>\n",
       "      <th>beg_word</th>\n",
       "      <th>end_word</th>\n",
       "      <th>n_round</th>\n",
       "      <th>beg_round</th>\n",
       "      <th>end_round</th>\n",
       "      <th>rank_round</th>\n",
       "      <th>text_round</th>\n",
       "      <th>sil_bef</th>\n",
       "      <th>...</th>\n",
       "      <th>prob_point_bef</th>\n",
       "      <th>prob_comma_bef</th>\n",
       "      <th>real_rank_round</th>\n",
       "      <th>pitch</th>\n",
       "      <th>energy</th>\n",
       "      <th>pitch_bef</th>\n",
       "      <th>energy_bef</th>\n",
       "      <th>punct</th>\n",
       "      <th>punct_bef</th>\n",
       "      <th>file</th>\n",
       "    </tr>\n",
       "  </thead>\n",
       "  <tbody>\n",
       "    <tr>\n",
       "      <th>0</th>\n",
       "      <td>0</td>\n",
       "      <td>ok</td>\n",
       "      <td>2.00</td>\n",
       "      <td>2.37</td>\n",
       "      <td>0</td>\n",
       "      <td>0.0</td>\n",
       "      <td>10.123</td>\n",
       "      <td>0</td>\n",
       "      <td>ok donc juste comme on enregistre euh donc là c' est le le deuxième scénario</td>\n",
       "      <td>1.26</td>\n",
       "      <td>...</td>\n",
       "      <td>0.000000</td>\n",
       "      <td>0.000000</td>\n",
       "      <td>0</td>\n",
       "      <td>0</td>\n",
       "      <td>0</td>\n",
       "      <td>0</td>\n",
       "      <td>0</td>\n",
       "      <td>0</td>\n",
       "      <td>0</td>\n",
       "      <td>Linagora_P1</td>\n",
       "    </tr>\n",
       "    <tr>\n",
       "      <th>1</th>\n",
       "      <td>1</td>\n",
       "      <td>donc</td>\n",
       "      <td>2.73</td>\n",
       "      <td>3.01</td>\n",
       "      <td>0</td>\n",
       "      <td>0.0</td>\n",
       "      <td>10.123</td>\n",
       "      <td>1</td>\n",
       "      <td>ok donc juste comme on enregistre euh donc là c' est le le deuxième scénario</td>\n",
       "      <td>0.00</td>\n",
       "      <td>...</td>\n",
       "      <td>0.000000</td>\n",
       "      <td>0.000000</td>\n",
       "      <td>1</td>\n",
       "      <td>0</td>\n",
       "      <td>0</td>\n",
       "      <td>0</td>\n",
       "      <td>0</td>\n",
       "      <td>0</td>\n",
       "      <td>0</td>\n",
       "      <td>Linagora_P1</td>\n",
       "    </tr>\n",
       "    <tr>\n",
       "      <th>2</th>\n",
       "      <td>2</td>\n",
       "      <td>juste</td>\n",
       "      <td>3.38</td>\n",
       "      <td>3.67</td>\n",
       "      <td>0</td>\n",
       "      <td>0.0</td>\n",
       "      <td>10.123</td>\n",
       "      <td>2</td>\n",
       "      <td>ok donc juste comme on enregistre euh donc là c' est le le deuxième scénario</td>\n",
       "      <td>0.24</td>\n",
       "      <td>...</td>\n",
       "      <td>0.000000</td>\n",
       "      <td>0.000000</td>\n",
       "      <td>2</td>\n",
       "      <td>U</td>\n",
       "      <td>D</td>\n",
       "      <td>0</td>\n",
       "      <td>0</td>\n",
       "      <td>0</td>\n",
       "      <td>0</td>\n",
       "      <td>Linagora_P1</td>\n",
       "    </tr>\n",
       "    <tr>\n",
       "      <th>3</th>\n",
       "      <td>3</td>\n",
       "      <td>comme</td>\n",
       "      <td>3.92</td>\n",
       "      <td>4.22</td>\n",
       "      <td>0</td>\n",
       "      <td>0.0</td>\n",
       "      <td>10.123</td>\n",
       "      <td>3</td>\n",
       "      <td>ok donc juste comme on enregistre euh donc là c' est le le deuxième scénario</td>\n",
       "      <td>0.00</td>\n",
       "      <td>...</td>\n",
       "      <td>0.018153</td>\n",
       "      <td>0.286862</td>\n",
       "      <td>3</td>\n",
       "      <td>D</td>\n",
       "      <td>D</td>\n",
       "      <td>U</td>\n",
       "      <td>D</td>\n",
       "      <td>0</td>\n",
       "      <td>0</td>\n",
       "      <td>Linagora_P1</td>\n",
       "    </tr>\n",
       "    <tr>\n",
       "      <th>4</th>\n",
       "      <td>4</td>\n",
       "      <td>on</td>\n",
       "      <td>4.23</td>\n",
       "      <td>4.67</td>\n",
       "      <td>0</td>\n",
       "      <td>0.0</td>\n",
       "      <td>10.123</td>\n",
       "      <td>4</td>\n",
       "      <td>ok donc juste comme on enregistre euh donc là c' est le le deuxième scénario</td>\n",
       "      <td>0.00</td>\n",
       "      <td>...</td>\n",
       "      <td>0.000417</td>\n",
       "      <td>0.001607</td>\n",
       "      <td>4</td>\n",
       "      <td>D</td>\n",
       "      <td>U</td>\n",
       "      <td>D</td>\n",
       "      <td>D</td>\n",
       "      <td>0</td>\n",
       "      <td>0</td>\n",
       "      <td>Linagora_P1</td>\n",
       "    </tr>\n",
       "  </tbody>\n",
       "</table>\n",
       "<p>5 rows × 27 columns</p>\n",
       "</div>"
      ],
      "text/plain": [
       "   Unnamed: 0   word  beg_word  end_word  n_round  beg_round  end_round  \\\n",
       "0  0           ok     2.00      2.37      0        0.0        10.123      \n",
       "1  1           donc   2.73      3.01      0        0.0        10.123      \n",
       "2  2           juste  3.38      3.67      0        0.0        10.123      \n",
       "3  3           comme  3.92      4.22      0        0.0        10.123      \n",
       "4  4           on     4.23      4.67      0        0.0        10.123      \n",
       "\n",
       "   rank_round  \\\n",
       "0  0            \n",
       "1  1            \n",
       "2  2            \n",
       "3  3            \n",
       "4  4            \n",
       "\n",
       "                                                                     text_round  \\\n",
       "0  ok donc juste comme on enregistre euh donc là c' est le le deuxième scénario   \n",
       "1  ok donc juste comme on enregistre euh donc là c' est le le deuxième scénario   \n",
       "2  ok donc juste comme on enregistre euh donc là c' est le le deuxième scénario   \n",
       "3  ok donc juste comme on enregistre euh donc là c' est le le deuxième scénario   \n",
       "4  ok donc juste comme on enregistre euh donc là c' est le le deuxième scénario   \n",
       "\n",
       "   sil_bef  ...  prob_point_bef  prob_comma_bef  real_rank_round  pitch  \\\n",
       "0  1.26     ...  0.000000        0.000000        0                0       \n",
       "1  0.00     ...  0.000000        0.000000        1                0       \n",
       "2  0.24     ...  0.000000        0.000000        2                U       \n",
       "3  0.00     ...  0.018153        0.286862        3                D       \n",
       "4  0.00     ...  0.000417        0.001607        4                D       \n",
       "\n",
       "   energy  pitch_bef  energy_bef  punct  punct_bef         file  \n",
       "0  0       0          0           0      0          Linagora_P1  \n",
       "1  0       0          0           0      0          Linagora_P1  \n",
       "2  D       0          0           0      0          Linagora_P1  \n",
       "3  D       U          D           0      0          Linagora_P1  \n",
       "4  U       D          D           0      0          Linagora_P1  \n",
       "\n",
       "[5 rows x 27 columns]"
      ]
     },
     "execution_count": 6,
     "metadata": {},
     "output_type": "execute_result"
    }
   ],
   "source": [
    "df_linto.head()"
   ]
  },
  {
   "cell_type": "code",
   "execution_count": 43,
   "metadata": {},
   "outputs": [
    {
     "data": {
      "text/plain": [
       "{'Linagora_A1',\n",
       " 'Linagora_C1',\n",
       " 'Linagora_C2',\n",
       " 'Linagora_C3',\n",
       " 'Linagora_P1',\n",
       " 'Linagora_P4',\n",
       " 'Linagora_P5',\n",
       " 'Linagora_P6',\n",
       " 'Linagora_R1',\n",
       " 'Linagora_R3',\n",
       " 'Linagora_R4'}"
      ]
     },
     "execution_count": 43,
     "metadata": {},
     "output_type": "execute_result"
    }
   ],
   "source": [
    "set(df_linto[\"file\"])"
   ]
  },
  {
   "cell_type": "markdown",
   "metadata": {},
   "source": [
    "### Ajout d'informations dans la Dataframe"
   ]
  },
  {
   "cell_type": "code",
   "execution_count": 8,
   "metadata": {},
   "outputs": [
    {
     "name": "stdout",
     "output_type": "stream",
     "text": [
      "25 %\n",
      "50 %\n",
      "75 %\n"
     ]
    }
   ],
   "source": [
    "#token sur dev\n",
    "df_linto.index=np.arange(df_linto.shape[0])\n",
    "liste_token=[]\n",
    "i=0\n",
    "lim=25\n",
    "flag=0\n",
    "for x in df_linto.itertuples():\n",
    "    i+=1\n",
    "    per=(i*100)/len(df_linto)\n",
    "    if per>lim:\n",
    "        print(lim, \"%\")\n",
    "        lim=lim+25\n",
    "         \n",
    "    if flag==0:    \n",
    "        str_text=x.text_round\n",
    "        str_text=str_text.replace(\"  \", \" \")\n",
    "        str_text=str_text.replace(\"aujourd'\", \"aujourd\")\n",
    "        str_text=str_text.replace(\"95%\", \"95\")\n",
    "        str_text=str_text.replace(\"#0\", \"0\")\n",
    "        str_text=str_text.replace(\"' \", \"'\")\n",
    "        doc=nlp(str_text)\n",
    "       \n",
    "        if x.rank_round>=len(doc):\n",
    "            #print( x.text_round)\n",
    "            print(doc)\n",
    "            print(len(str(x.text_round).split(\" \")), len(doc))\n",
    "            #print((token.text_) for token in doc)\n",
    "        else:\n",
    "            liste_token.append(doc[int(x.rank_round)])\n",
    "\n",
    "    elif flag==1:\n",
    "        liste_token.append(doc[int(x.rank_round)])\n",
    "    \n",
    "    if x.rank_round<len(doc)-1:\n",
    "        flag=1\n",
    "    else:\n",
    "        flag=0\n",
    "\n",
    "\n",
    "\n",
    "\n",
    "list_bef=[liste_token[0]]+liste_token\n",
    "del list_bef[-1]\n",
    "list_aft=liste_token+[liste_token[-1]]\n",
    "del list_aft[0]\n",
    "\n",
    "# information (pos type) sur le token du mot étudié, du précédent et du suivant  \n",
    "df_linto[\"token\"]=[token.pos_ for token in liste_token]\n",
    "df_linto[\"token_bef\"]=[token.pos_ for token in list_bef]\n",
    "df_linto[\"token_aft\"]=[token.pos_ for token in list_aft]\n",
    "\n"
   ]
  },
  {
   "cell_type": "code",
   "execution_count": 9,
   "metadata": {},
   "outputs": [],
   "source": [
    "# rajout de energy aft et pitch aft\n",
    "liste_energy=[]\n",
    "liste_pitch=[]\n",
    "liste_pos=[]\n",
    "for x in df_linto.itertuples():\n",
    "    liste_energy.append(x.energy)\n",
    "    liste_pitch.append(x.pitch)\n",
    "    \n",
    "df_linto[\"energy_aft\"]=liste_energy[1:]+[liste_energy[-1]]\n",
    "df_linto[\"pitch_aft\"]=liste_pitch[1:]+[liste_pitch[-1]]\n"
   ]
  },
  {
   "cell_type": "markdown",
   "metadata": {},
   "source": [
    "## 2. Définition des labels"
   ]
  },
  {
   "cell_type": "code",
   "execution_count": 10,
   "metadata": {},
   "outputs": [],
   "source": [
    "ABSTAIN = -1\n",
    "NO = 0\n",
    "BOS = 1"
   ]
  },
  {
   "cell_type": "markdown",
   "metadata": {},
   "source": [
    "## 3. Séparation train/test/dev"
   ]
  },
  {
   "cell_type": "code",
   "execution_count": 11,
   "metadata": {},
   "outputs": [
    {
     "name": "stdout",
     "output_type": "stream",
     "text": [
      "9752 8833 53692\n"
     ]
    }
   ],
   "source": [
    "df_dev = df_linto[(df_linto[\"file\"]==\"Linagora_R1\") | (df_linto[\"file\"]==\"Linagora_A1\")]\n",
    "df_test = df_linto[(df_linto[\"file\"]==\"Linagora_P1\") | (df_linto[\"file\"]==\"Linagora_C1\")]\n",
    "df_train=df_linto[(df_linto[\"file\"]!=\"Linagora_R1\")&(df_linto[\"file\"]!=\"Linagora_A1\")&(df_linto[\"file\"]!=\"Linagora_P1\")&(df_linto[\"file\"]!=\"Linagora_C1\")]\n",
    "\n",
    "\n",
    "Y_test = df_test[\"gold\"].values\n",
    "Y_dev = df_dev[\"gold\"].values\n",
    "\n",
    "print(len(df_dev),len(df_test),len(df_train))"
   ]
  },
  {
   "cell_type": "markdown",
   "metadata": {},
   "source": [
    "### Observation des données "
   ]
  },
  {
   "cell_type": "code",
   "execution_count": 12,
   "metadata": {},
   "outputs": [],
   "source": [
    "#df_obs=df_dev[(df_dev[\"gold\"]==1)]\n",
    "#a=df_obs['word'].dep_.value_counts()"
   ]
  },
  {
   "cell_type": "markdown",
   "metadata": {},
   "source": [
    "## 4. Ecriture des règles"
   ]
  },
  {
   "cell_type": "markdown",
   "metadata": {},
   "source": [
    "### Règles basiques (sans preprocessor)\n",
    "\n"
   ]
  },
  {
   "cell_type": "code",
   "execution_count": 13,
   "metadata": {},
   "outputs": [],
   "source": [
    "from snorkel.labeling import labeling_function\n",
    "\n",
    "\n",
    "# Si tony dit BOS -> BOS\n",
    "@labeling_function()\n",
    "def tony(x):\n",
    "    return BOS if x[\"tony\"]==1 else ABSTAIN\n",
    "\n",
    "#  Si début tour -> BOS \n",
    "@labeling_function()\n",
    "def beg_round(x):\n",
    "    return BOS if x[\"rank_round\"]==0 else ABSTAIN\n",
    "\n",
    "# Si la probabilité d'avoir un point juste avant est > 0.3 -> BOS \n",
    "@labeling_function()\n",
    "def point_bef(x):\n",
    "    return BOS if x[\"prob_point_bef\"]>0.3 and x[\"word\"]!=\"euh\" else ABSTAIN\n",
    "\n",
    "# Si probabilité de ne pas avoir de ponctuation > 0.99 -> NO\n",
    "@labeling_function()\n",
    "def nothing_bef(x):\n",
    "    return NO if x[\"prob_nothing_bef\"]>0.99 else ABSTAIN\n",
    "\n",
    "# Si probabilité d'avoir une virgule avant le mot >0.3 -> BOS\n",
    "@labeling_function()\n",
    "def comma_bef(x):\n",
    "     return BOS if x[\"prob_comma_bef\"]>0.3 else ABSTAIN\n",
    "\n",
    "\n",
    "# Si autour du mot il y a répétition (hors \"euh\") -> NO\n",
    "@labeling_function()\n",
    "def no_disfluency(x):\n",
    "    param_context=4\n",
    "    list_text=str(x[\"text_round\"]).split(\" \")\n",
    "    pos=int(x[\"rank_round\"])\n",
    "    context=[]\n",
    "    cmpt=0\n",
    "    if pos>param_context and pos<len(list_text)-param_context:\n",
    "        for e in list_text[pos-param_context:pos+param_context]:\n",
    "            context.append(e)\n",
    "        while \"euh\" in context:\n",
    "            context.remove(\"euh\")\n",
    "            cmpt+=1\n",
    "        if abs(len(set(context))-len(context))>=2 or cmpt>2:\n",
    "            return NO\n",
    "        \n",
    "    param_context=2\n",
    "    context=[]\n",
    "    cmpt=0\n",
    "    if pos>param_context and pos<len(list_text)-param_context:\n",
    "        for e in list_text[pos-param_context:pos+param_context]:\n",
    "            context.append(e)\n",
    "        if len(set(context))!=len(context):\n",
    "            return NO\n",
    "    return ABSTAIN\n",
    "\n",
    "# Si l'énergie et le f0 suivent un motif particulier -> BOS\n",
    "@labeling_function()\n",
    "def energy_pitch(x):\n",
    "    liste_features=[\"DUUS\", \"DDUS\", \"DDUU\", \"SDUD\", \"SUUD\", \"SUUU\"]\n",
    "    str_feat=str(x.energy_bef)+str(x.energy)+str(x.pitch_bef)+str(x.pitch)\n",
    "    \n",
    "    if str_feat in liste_features and x.word!=\"euh\" and x.sil_bef>0.3:\n",
    "        return BOS\n",
    "\n",
    "    return ABSTAIN\n",
    "\n",
    "@labeling_function()\n",
    "def energy_pitch2(x):\n",
    "    if x.sil_bef>0.3:\n",
    "        if (x.energy_bef==\"D\" and x.pitch_bef==\"U\") and x.word!=\"euh\":\n",
    "            return BOS\n",
    "    return ABSTAIN\n",
    "\n",
    "# Si l'énergie et le f0 suivent un motif particulier -> NO\n",
    "@labeling_function()\n",
    "def no_energy_pitch(x):\n",
    "    list_nrj_bef=[\"S\", \"U\"]\n",
    "    list_pitch_bef=[\"D\", \"S\"]\n",
    "    beg_markers=[\"bonjour\", \"quand\", \"par\",\"merci\", \"ok\", \"bon\",\"ouais\",\"oui\",\"pour\", \"donc\",\"effectivement\",\"alors\",\"bref\",\"voilà\", \"et\", \"ensuite\", \"mais\", \"ben\", \"hein\", \"enfin\", \"finalement\", \"pourtant\", \"cependant\", \"parce\"]\n",
    "    pronoms=[\"je\", \"tu\", \"il\", \"vous\", \"on\", \"nous\", \"elle\", \"ils\",\"qui\", \"que\", \"j'\",\"c'\"]\n",
    "    if (x.energy_bef in list_nrj_bef and x.pitch_bef in list_pitch_bef)or  (x.energy_bef==\"D\" and x.energy==\"D\"):\n",
    "        if x.word not in beg_markers and x.word not in pronoms:\n",
    "            return NO\n",
    "    return ABSTAIN\n",
    "\n",
    "\n",
    "# Si le mot est d'un type particulier -> BOS \n",
    "@labeling_function()\n",
    "def cc(x):\n",
    "    notype=[\"ADJ\", \"DET\", \"AUX\", \"VERB\"]\n",
    "    if x.i_token in liste_begcc :#and x.token not in notype:\n",
    "        return BOS\n",
    "    return ABSTAIN\n",
    "\n",
    "\n",
    "\n",
    "liste_tok=[\"CCONJ\"]\n",
    "liste_tok_bef=[\"NOUN\"]\n",
    "liste_tok_dep=[\"nsubj\", \"cc\", \"advmod\", \"nmod\", \"amod\", \"expl:subj\", \"obj\", \"dep\"]\n",
    "\n",
    "\n",
    "@labeling_function()\n",
    "def pos(x):\n",
    "    if x.token in liste_tok and x.token_bef!=\"CCONJ\" and x.token_aft!=\"NOUN\" and x.prob_comma_bef>0.05:\n",
    "        return BOS\n",
    "    return ABSTAIN\n",
    "\n",
    "# Si les mots avant, après et le mot ont des types particuliers -> BOS \n",
    "@labeling_function()\n",
    "def cconj(x):\n",
    "    liste_no=[\"euh\", \"pas\", \"que\", \"ou\", \"tu\", \"aussi\", \"là\"]\n",
    "    if (x.token_bef==\"NOUN\" and  x.token==\"CCONJ\" and x.token_aft==\"PRON\") or (x.token_bef==\"NOUN\" and  x.token==\"SCONJ\" and x.token_aft==\"SCONJ\") or (x.token_bef==\"NOUN\" and  x.token==\"ADV\" and x.token_aft==\"PRON\") and x.word not in liste_no:\n",
    "        return BOS\n",
    "    return ABSTAIN\n",
    "\n",
    "\n",
    "# Si le modèle de samir met un point avant le mot -> BOS\n",
    "@labeling_function()\n",
    "def punct_samir_period(x):\n",
    "    if x.punct_bef==\".\" and x.word!=\"euh\" and x.sil_bef>0:\n",
    "        return BOS\n",
    "    return ABSTAIN \n",
    "\n",
    "# Si le modèle de samir met une virgule avant le mot -> BOS\n",
    "@labeling_function()\n",
    "def punct_samir_comma(x):\n",
    "    if x.punct_bef==\",\" and x.word!=\"euh\" and x.sil_bef>0:\n",
    "        return BOS\n",
    "    return ABSTAIN \n",
    "\n",
    "# Si le mot d'avant est un NOUN et l'énergie avant est descendante (D) -> BOS\n",
    "@labeling_function()\n",
    "def noun_d(x):\n",
    "    liste_tok=[\"PRON\", \"ADV\", \"CCONJ\"]\n",
    "    if x.token_bef==\"NOUN\" and x.energy_bef==\"D\" and x.token in liste_tok and x.energy!=\"D\":\n",
    "        return BOS\n",
    "    return ABSTAIN\n",
    "\n",
    "\n"
   ]
  },
  {
   "cell_type": "markdown",
   "metadata": {},
   "source": [
    "### Règles avec pre-processor"
   ]
  },
  {
   "cell_type": "code",
   "execution_count": 14,
   "metadata": {},
   "outputs": [],
   "source": [
    "from snorkel.preprocess.nlp import SpacyPreprocessor\n",
    "\n",
    "# The SpacyPreprocessor parses the text in text_field and\n",
    "# stores the new enriched representation in doc_field\n",
    "spacy = SpacyPreprocessor(text_field=\"word\",language='fr_core_news_sm', doc_field=\"doc\", memoize=True)\n"
   ]
  },
  {
   "cell_type": "code",
   "execution_count": 15,
   "metadata": {},
   "outputs": [],
   "source": [
    "import numpy as np\n",
    "from snorkel.preprocess import preprocessor\n",
    "\n",
    "# rajoute le contexte à droite et à gauche du mot\n",
    "@preprocessor(memoize=True)\n",
    "def word_context(x):\n",
    "    list_text=str(x[\"text_round\"]).split(\" \")\n",
    "    pos=int(x[\"rank_round\"])\n",
    "    if pos<len(list_text)-1 and pos>0:\n",
    "        x.word_bef = list_text[pos-1]\n",
    "        x.word_aft = list_text[pos+1]\n",
    "    elif pos==0 and pos<len(list_text)-1:\n",
    "        x.word_bef = np.nan\n",
    "        x.word_aft= list_text[pos+1]\n",
    "    elif pos==len(list_text)-1 and pos==0:\n",
    "        x.word_aft = np.nan\n",
    "        x.word_bef = list_text[pos-1]\n",
    "    else:\n",
    "        x.word_aft = np.nan\n",
    "        x.word_bef = np.nan\n",
    "    return x\n",
    "\n",
    "\n",
    "#preprocessor qui indique les marqueurs qui comptent vraiment (le premier si on a une suite de marqueurs)\n",
    "@preprocessor(memoize=True)\n",
    "def markers(x):\n",
    "    #definir marqueurs seuls\n",
    "    couples_markers=dict(du=[\"coup\"], de=[\"fait\"], en=[\"fait\", \"vrai\", \"effet\"], parce=[\"que\",\"qu'\"], et=[\"puis\", \"donc\"],enfin=[\"bon\"],mais=[\"bon\"], à=[\"propos\"], tu=[\"vois\",\"sais\"])\n",
    "    single_markers=[\"ouais\", \"donc\",\"effectivement\",\"alors\",\"bref\",\"voilà\", \"ensuite\", \"mais\", \"ben\", \"hein\", \"enfin\", \"finalement\", \"pourtant\", \"cependant\"]\n",
    "    \n",
    "    list_text=str(x[\"text_round\"]).split(\" \")\n",
    "    wrd=str(x[\"word\"])\n",
    "    pos=int(x[\"rank_round\"])\n",
    "    \n",
    "    m=0\n",
    "    if pos!=len(list_text)-1:\n",
    "        wrd_aft=str(list_text[pos+1])\n",
    "        if wrd in single_markers or ((wrd in couples_markers.keys()) and (wrd_aft in couples_markers[wrd])):\n",
    "            if pos==0:\n",
    "                m=1\n",
    "            else:\n",
    "                wrd_bef=str(list_text[pos-1])\n",
    "                if wrd_bef in single_markers:\n",
    "                    m=0\n",
    "                else:\n",
    "                    if pos==1:\n",
    "                        m=1\n",
    "                    else:\n",
    "                        wrd_bef_bef=str(list_text[pos-2])\n",
    "                        if wrd_bef_bef in couples_markers.keys() and wrd_bef in couples_markers[wrd_bef_bef]:\n",
    "                            m=0\n",
    "                        else:\n",
    "                            m=1\n",
    "    x.marker=m\n",
    "    return x\n",
    "\n",
    "# indique si le mot est à la suite d'un marqueur ou d'une serie de marqueurs\n",
    "@preprocessor(memoize=True)\n",
    "def aft_markers(x):\n",
    "    couples_markers=dict(du=[\"coup\"], de=[\"fait\"], en=[\"fait\", \"vrai\", \"effet\"], parce=[\"que\",\"qu'\"], et=[\"puis\", \"donc\"],enfin=[\"bon\"],mais=[\"bon\"], à=[\"propos\"], tu=[\"vois\",\"sais\"])\n",
    "    single_markers=[\"ouais\", \"donc\",\"effectivement\",\"alors\",\"bref\",\"voilà\", \"et\", \"ensuite\", \"mais\", \"ben\", \"hein\", \"enfin\", \"finalement\", \"pourtant\", \"cependant\"]\n",
    "    \n",
    "    list_text=str(x[\"text_round\"]).split(\" \")\n",
    "    wrd=str(x[\"word\"])\n",
    "    pos=int(x[\"rank_round\"])\n",
    "    bef=0\n",
    "    aft_mark=0\n",
    "    if pos>0:\n",
    "        wrd_bef=str(list_text[pos-1])\n",
    "        for k in couples_markers.keys():\n",
    "            if wrd_bef in couples_markers[k]:\n",
    "                bef=1\n",
    "        #print(wrd, wrd_bef, bef)\n",
    "        if wrd_bef in single_markers or bef==1:\n",
    "            if wrd not in single_markers and wrd not in couples_markers.keys():\n",
    "                aft_mark=1\n",
    "            else:\n",
    "                aft_mark=0\n",
    "        else:\n",
    "            aft_mark=0\n",
    "    \n",
    "    x.aft_mark=aft_mark\n",
    "    return x"
   ]
  },
  {
   "cell_type": "markdown",
   "metadata": {},
   "source": [
    "#### Pre-processor \"markers\""
   ]
  },
  {
   "cell_type": "code",
   "execution_count": 16,
   "metadata": {},
   "outputs": [],
   "source": [
    "# Si premier marqueur d'une série ou marqueur isolée -> BOS\n",
    "@labeling_function(pre=[markers])\n",
    "def first_marker(x):\n",
    "    if x.marker==1:\n",
    "        return BOS\n",
    "    else:\n",
    "        return ABSTAIN"
   ]
  },
  {
   "cell_type": "markdown",
   "metadata": {},
   "source": [
    "#### Pre-processor \"aft_markers\""
   ]
  },
  {
   "cell_type": "code",
   "execution_count": 17,
   "metadata": {},
   "outputs": [],
   "source": [
    "# Si mot à la suite d'un marqueur isolé ou d'une série de marqueur -> NO\n",
    "@labeling_function(pre=[aft_markers])\n",
    "def no_after_markers(x):\n",
    "    if x.aft_mark==1:\n",
    "        return NO\n",
    "    else:\n",
    "        return ABSTAIN"
   ]
  },
  {
   "cell_type": "markdown",
   "metadata": {},
   "source": [
    "#### Pre-processor \"spacy\""
   ]
  },
  {
   "cell_type": "code",
   "execution_count": 18,
   "metadata": {},
   "outputs": [],
   "source": [
    "# Si type particulier du mot -> NO\n",
    "@labeling_function(pre=[spacy])\n",
    "def no_type(x):\n",
    "    \"\"\"Ham comments mention specific people and are short.\"\"\"\n",
    "    if  any([(token.pos_ == \"ADJ\" or token.pos_ == \"DET\" or token.pos_ == \"AUX\" or token.pos_ == \"VERB\") for token in x.doc]) :\n",
    "        return NO\n",
    "    else:\n",
    "        return ABSTAIN\n",
    "\n"
   ]
  },
  {
   "cell_type": "markdown",
   "metadata": {},
   "source": [
    "#### Pre-processor \"word_context\""
   ]
  },
  {
   "cell_type": "code",
   "execution_count": 19,
   "metadata": {},
   "outputs": [],
   "source": [
    "# If silence longer than 0.7s before the word -> BOS\n",
    "\n",
    "@labeling_function(pre=[word_context])\n",
    "def sil_bef(x):\n",
    "    \n",
    "    if x[\"sil_bef\"]>=0.7 and x.word_bef!=\"euh\" and x.word_aft!=\"euh\" and x.word_bef!=x.word_aft and x.word_bef!=x[\"word\"] and x.word_aft!=x[\"word\"] and x[\"word\"]!=\"euh\":\n",
    "        single_markers=[\"donc\",\"effectivement\",\"alors\",\"bref\",\"voilà\", \"et\", \"ensuite\", \"mais\", \"ben\", \"hein\", \"enfin\", \"finalement\", \"pourtant\", \"cependant\"]\n",
    "        pronoms=[\"je\", \"tu\", \"il\", \"vous\", \"on\", \"nous\", \"elle\", \"ils\"]\n",
    "        #if x.word_bef not in single_markers and x.word_bef not in pronoms:\n",
    "        return BOS\n",
    "\n",
    "\n",
    "    return ABSTAIN\n",
    "\n",
    "\n",
    "\n",
    "# If no silence before the word -> NO\n",
    "@labeling_function(pre=[word_context])\n",
    "def no_sil_bef(x):\n",
    "    beg_markers=[\"bon\",\"ouais\",\"oui\",\"pour\", \"donc\",\"effectivement\",\"alors\",\"bref\",\"voilà\", \"et\", \"ensuite\", \"mais\", \"ben\", \"hein\", \"enfin\", \"finalement\", \"pourtant\", \"cependant\", \"parce\"]\n",
    "    pronoms=[\"je\", \"tu\", \"il\", \"vous\", \"on\", \"nous\", \"elle\", \"ils\",\"qui\", \"que\", \"j'\",\"c'\"]\n",
    "    if x[\"sil_bef\"]==0 and x[\"word\"]==\"en\" and x.word_aft==\"fait\":\n",
    "            return ABSTAIN\n",
    "    elif x[\"sil_bef\"]==0 and x[\"word\"] not in beg_markers and x[\"word\"] not in pronoms:\n",
    "        return NO\n",
    "    else:\n",
    "        return ABSTAIN\n",
    "\n",
    "# Si mot particulier -> BOS\n",
    "@labeling_function(pre=[word_context])\n",
    "def keywords(x):\n",
    "    liste=[\"bonjour\", \"merci\", \"ok\", \"oui\", \"non\", \"ouais\"]\n",
    "    beg_markers=[\"bon\",\"ouais\",\"oui\",\"pour\", \"donc\",\"effectivement\",\"alors\",\"bref\",\"voilà\", \"et\", \"ensuite\", \"mais\", \"ben\", \"hein\", \"enfin\", \"finalement\", \"pourtant\", \"cependant\", \"parce\"]\n",
    "    \n",
    "    \n",
    "    if x.word_bef not in liste and x.word_bef not in beg_markers:\n",
    "        if x.word in liste or (x.word==\"d'\" and x.word_aft==\"accord\") or (x.word==\"hum\" and x.word_aft==\"hum\"):\n",
    "            return BOS \n",
    "    return ABSTAIN\n",
    "\n",
    "# Si type de mot dans le contexte et énergie + pitch suivent un schéma particulier -> BOS \n",
    "@labeling_function(pre=[word_context])\n",
    "def audio_spacy(x):\n",
    "    \n",
    "    beg_markers=[\"bon\",\"ouais\",\"oui\",\"pour\", \"donc\",\"effectivement\",\"alors\",\"bref\",\"voilà\", \"et\", \"ensuite\", \"mais\", \"ben\", \"hein\", \"enfin\", \"finalement\", \"pourtant\", \"cependant\", \"parce\"]\n",
    "    \n",
    "    dict_e3=dict(NOUN_PRON_AUX=[\"DSS\", \"DUU\", \"DSU\"], NOUN_PRON_PRON=[\"DUS\", \"DDU\"], NOUN_CCONJ_ADV=[\"DDD\"], NOUN_ADV_PRON=[\"DDU\", \"DDD\", \"DDS\"],\n",
    "            NOUN_CCONJ_PRON=[\"DUD\"])\n",
    "    \n",
    "    dict_ep2=dict(NOUN_PRON=[\"DKDS\", \"USDU\", \"UDDU\", \"DKDU\"],NOUN_ADV=[\"SSDD\", \"UDDD\", \"USDD\"], NOUN_CCONJ=[\"UDDU\", \"SKDU\"] )\n",
    "    \n",
    "    dict_e2=dict(NOUN_PRON=[\"DS\"], NOUN_CCONJ=[\"DD\", \"DU\", \"SU\"], ADJ_PRON=[\"US\"], NOUN_SCONJ=[\"DD\"], PROPN_PRON=[\"DU\", \"DS\", \"UD\"], ADV_CCONJ=[\"DD\", \"DU\"])\n",
    "    \n",
    "    tok3=x.token_bef+\"_\"+x.token+\"_\"+x.token_aft\n",
    "    tok2=x.token_bef+\"_\"+x.token\n",
    "    e3=str(x.energy_bef)+str(x.energy)+str(x.energy_aft)\n",
    "    e2=str(x.energy_bef)+str(x.energy)\n",
    "    ep=str(x.pitch_bef)+str(x.pitch)+str(x.energy_bef)+str(x.energy)\n",
    "    if x.word_bef not in beg_markers:\n",
    "        if tok3 in dict_e3.keys() and e3 in dict_e3[tok3]:\n",
    "            return BOS\n",
    "        if tok2 in dict_ep2.keys() and ep in dict_ep2[tok2]:\n",
    "            return BOS\n",
    "\n",
    "        if tok2 in dict_e2.keys() and e2 in dict_e2[tok2]:\n",
    "            return BOS\n",
    "    return ABSTAIN\n",
    "\n",
    "# Tony amélioré \n",
    "# If ToNy detects a Segment -> Begin of Segment (BOS)\n",
    "@labeling_function(pre=[word_context])\n",
    "def tony(x):\n",
    "    beg_markers=[\"bon\",\"ouais\",\"oui\",\"pour\", \"donc\",\"effectivement\",\"alors\",\"bref\",\"voilà\", \"et\", \"ensuite\", \"mais\", \"ben\", \"hein\", \"enfin\", \"finalement\", \"pourtant\", \"cependant\", \"parce\"]\n",
    "    if x[\"tony\"]==1:\n",
    "        if x.word_bef not in beg_markers:\n",
    "            if (x.word==\"on\" and x.sil_bef==0) or (x.word==\"c'\" and x.token_bef==\"VERB\"):\n",
    "                return ABSTAIN\n",
    "            else: \n",
    "                return BOS \n",
    "    return ABSTAIN"
   ]
  },
  {
   "cell_type": "markdown",
   "metadata": {},
   "source": [
    "### Génération de règles avec des KeyWords"
   ]
  },
  {
   "cell_type": "code",
   "execution_count": 20,
   "metadata": {},
   "outputs": [],
   "source": [
    "# Non utilisé mais peut être utilisé\n",
    "from snorkel.labeling import LabelingFunction\n",
    "\n",
    "\n",
    "def keyword_lookup(x, keywords, label):\n",
    "    if any(wrd in x.word.lower() for wrd in keywords):\n",
    "        return label\n",
    "    return ABSTAIN\n",
    "\n",
    "\n",
    "def make_keyword_lf(keywords, label=BOS):\n",
    "    return LabelingFunction(\n",
    "        name=f\"keyword_{keywords[0]}\",\n",
    "        f=keyword_lookup,\n",
    "        resources=dict(keywords=keywords, label=label),\n",
    "    )\n",
    "\n",
    "\n",
    "\"\"\"Spam comments make requests rather than commenting.\"\"\"\n",
    "keyword_words = make_keyword_lf(keywords=[\"bonjour\",\"merci\",\"ok\"],label=BOS)\n"
   ]
  },
  {
   "cell_type": "markdown",
   "metadata": {},
   "source": [
    "#### Règle sur les vrais tours "
   ]
  },
  {
   "cell_type": "code",
   "execution_count": 21,
   "metadata": {},
   "outputs": [],
   "source": [
    "# Si début de vrai tour -> BOS\n",
    "@labeling_function()\n",
    "def beg_real_round(x):\n",
    "    if x.real_rank_round==0:\n",
    "        return BOS\n",
    "    return ABSTAIN"
   ]
  },
  {
   "cell_type": "markdown",
   "metadata": {},
   "source": [
    "## 5. Application des règles"
   ]
  },
  {
   "cell_type": "code",
   "execution_count": 22,
   "metadata": {},
   "outputs": [
    {
     "name": "stderr",
     "output_type": "stream",
     "text": [
      "/users/linto/lgravell/.conda/envs/linto/lib/python3.8/site-packages/tqdm/std.py:699: FutureWarning: The Panel class is removed from pandas. Accessing it from the top-level namespace will also be removed in the next version\n",
      "  from pandas import Panel\n",
      "100%|██████████| 9752/9752 [00:56<00:00, 172.39it/s]\n",
      "100%|██████████| 8833/8833 [00:50<00:00, 175.11it/s]\n",
      "100%|██████████| 53692/53692 [05:14<00:00, 170.92it/s]\n"
     ]
    }
   ],
   "source": [
    "from snorkel.labeling import PandasLFApplier\n",
    "\n",
    "lfs=[ cconj, tony, first_marker,  no_type, no_sil_bef, no_after_markers, no_disfluency, point_bef, nothing_bef, keywords, audio_spacy, no_energy_pitch]\n",
    "#lfs=[cconj, tony, first_marker, no_sil_bef, no_after_markers, no_disfluency, point_bef, nothing_bef, keywords, pos,cc, energy_pitch, no_energy_pitch, energy_pitch2]\n",
    "\n",
    "applier = PandasLFApplier(lfs=lfs)\n",
    "L_dev = applier.apply(df=df_dev)\n",
    "L_test = applier.apply(df=df_test)\n",
    "L_train = applier.apply(df=df_train)"
   ]
  },
  {
   "cell_type": "markdown",
   "metadata": {},
   "source": [
    "### Evaluation de la couverture"
   ]
  },
  {
   "cell_type": "code",
   "execution_count": 24,
   "metadata": {},
   "outputs": [
    {
     "name": "stdout",
     "output_type": "stream",
     "text": [
      "LabelingFunction cconj, Preprocessors: [] coverage: 0.9%\n",
      "LabelingFunction tony, Preprocessors: [LambdaMapper word_context, Pre: []] coverage: 9.8%\n",
      "LabelingFunction first_marker, Preprocessors: [LambdaMapper markers, Pre: []] coverage: 4.5%\n",
      "LabelingFunction no_type, Preprocessors: [SpacyPreprocessor SpacyPreprocessor, Pre: []] coverage: 34.5%\n",
      "LabelingFunction no_sil_bef, Preprocessors: [LambdaMapper word_context, Pre: []] coverage: 64.3%\n",
      "LabelingFunction no_after_markers, Preprocessors: [LambdaMapper aft_markers, Pre: []] coverage: 7.9%\n",
      "LabelingFunction no_disfluency, Preprocessors: [] coverage: 17.5%\n",
      "LabelingFunction point_bef, Preprocessors: [] coverage: 6.7%\n",
      "LabelingFunction nothing_bef, Preprocessors: [] coverage: 49.6%\n",
      "LabelingFunction keywords, Preprocessors: [LambdaMapper word_context, Pre: []] coverage: 1.7%\n",
      "LabelingFunction audio_spacy, Preprocessors: [LambdaMapper word_context, Pre: []] coverage: 2.4%\n",
      "LabelingFunction no_energy_pitch, Preprocessors: [] coverage: 37.8%\n"
     ]
    }
   ],
   "source": [
    "coverage = (L_train != ABSTAIN).mean(axis=0)\n",
    "i=0\n",
    "for score in list(coverage):\n",
    "    print(lfs[i], f\"coverage: {score * 100:.1f}%\")\n",
    "    i+=1\n"
   ]
  },
  {
   "cell_type": "markdown",
   "metadata": {},
   "source": [
    "### Observation du L_train"
   ]
  },
  {
   "cell_type": "code",
   "execution_count": 26,
   "metadata": {},
   "outputs": [
    {
     "data": {
      "text/html": [
       "<div>\n",
       "<style scoped>\n",
       "    .dataframe tbody tr th:only-of-type {\n",
       "        vertical-align: middle;\n",
       "    }\n",
       "\n",
       "    .dataframe tbody tr th {\n",
       "        vertical-align: top;\n",
       "    }\n",
       "\n",
       "    .dataframe thead th {\n",
       "        text-align: right;\n",
       "    }\n",
       "</style>\n",
       "<table border=\"1\" class=\"dataframe\">\n",
       "  <thead>\n",
       "    <tr style=\"text-align: right;\">\n",
       "      <th></th>\n",
       "      <th>j</th>\n",
       "      <th>Polarity</th>\n",
       "      <th>Coverage</th>\n",
       "      <th>Overlaps</th>\n",
       "      <th>Conflicts</th>\n",
       "    </tr>\n",
       "  </thead>\n",
       "  <tbody>\n",
       "    <tr>\n",
       "      <th>cconj</th>\n",
       "      <td>0</td>\n",
       "      <td>[1]</td>\n",
       "      <td>0.009424</td>\n",
       "      <td>0.009126</td>\n",
       "      <td>0.002105</td>\n",
       "    </tr>\n",
       "    <tr>\n",
       "      <th>tony</th>\n",
       "      <td>1</td>\n",
       "      <td>[1]</td>\n",
       "      <td>0.097892</td>\n",
       "      <td>0.075467</td>\n",
       "      <td>0.039186</td>\n",
       "    </tr>\n",
       "    <tr>\n",
       "      <th>first_marker</th>\n",
       "      <td>2</td>\n",
       "      <td>[1]</td>\n",
       "      <td>0.044588</td>\n",
       "      <td>0.038814</td>\n",
       "      <td>0.017004</td>\n",
       "    </tr>\n",
       "    <tr>\n",
       "      <th>no_type</th>\n",
       "      <td>3</td>\n",
       "      <td>[0]</td>\n",
       "      <td>0.344744</td>\n",
       "      <td>0.336680</td>\n",
       "      <td>0.022145</td>\n",
       "    </tr>\n",
       "    <tr>\n",
       "      <th>no_sil_bef</th>\n",
       "      <td>4</td>\n",
       "      <td>[0]</td>\n",
       "      <td>0.643150</td>\n",
       "      <td>0.593515</td>\n",
       "      <td>0.030172</td>\n",
       "    </tr>\n",
       "    <tr>\n",
       "      <th>no_after_markers</th>\n",
       "      <td>5</td>\n",
       "      <td>[0]</td>\n",
       "      <td>0.079248</td>\n",
       "      <td>0.063268</td>\n",
       "      <td>0.004973</td>\n",
       "    </tr>\n",
       "    <tr>\n",
       "      <th>no_disfluency</th>\n",
       "      <td>6</td>\n",
       "      <td>[0]</td>\n",
       "      <td>0.175147</td>\n",
       "      <td>0.156243</td>\n",
       "      <td>0.022815</td>\n",
       "    </tr>\n",
       "    <tr>\n",
       "      <th>point_bef</th>\n",
       "      <td>7</td>\n",
       "      <td>[1]</td>\n",
       "      <td>0.066565</td>\n",
       "      <td>0.058482</td>\n",
       "      <td>0.028757</td>\n",
       "    </tr>\n",
       "    <tr>\n",
       "      <th>nothing_bef</th>\n",
       "      <td>8</td>\n",
       "      <td>[0]</td>\n",
       "      <td>0.495772</td>\n",
       "      <td>0.468785</td>\n",
       "      <td>0.008400</td>\n",
       "    </tr>\n",
       "    <tr>\n",
       "      <th>keywords</th>\n",
       "      <td>9</td>\n",
       "      <td>[1]</td>\n",
       "      <td>0.017191</td>\n",
       "      <td>0.015701</td>\n",
       "      <td>0.010132</td>\n",
       "    </tr>\n",
       "    <tr>\n",
       "      <th>audio_spacy</th>\n",
       "      <td>10</td>\n",
       "      <td>[1]</td>\n",
       "      <td>0.023821</td>\n",
       "      <td>0.021251</td>\n",
       "      <td>0.008195</td>\n",
       "    </tr>\n",
       "    <tr>\n",
       "      <th>no_energy_pitch</th>\n",
       "      <td>11</td>\n",
       "      <td>[0]</td>\n",
       "      <td>0.377971</td>\n",
       "      <td>0.364803</td>\n",
       "      <td>0.028105</td>\n",
       "    </tr>\n",
       "  </tbody>\n",
       "</table>\n",
       "</div>"
      ],
      "text/plain": [
       "                   j Polarity  Coverage  Overlaps  Conflicts\n",
       "cconj             0   [1]      0.009424  0.009126  0.002105 \n",
       "tony              1   [1]      0.097892  0.075467  0.039186 \n",
       "first_marker      2   [1]      0.044588  0.038814  0.017004 \n",
       "no_type           3   [0]      0.344744  0.336680  0.022145 \n",
       "no_sil_bef        4   [0]      0.643150  0.593515  0.030172 \n",
       "no_after_markers  5   [0]      0.079248  0.063268  0.004973 \n",
       "no_disfluency     6   [0]      0.175147  0.156243  0.022815 \n",
       "point_bef         7   [1]      0.066565  0.058482  0.028757 \n",
       "nothing_bef       8   [0]      0.495772  0.468785  0.008400 \n",
       "keywords          9   [1]      0.017191  0.015701  0.010132 \n",
       "audio_spacy       10  [1]      0.023821  0.021251  0.008195 \n",
       "no_energy_pitch   11  [0]      0.377971  0.364803  0.028105 "
      ]
     },
     "execution_count": 26,
     "metadata": {},
     "output_type": "execute_result"
    }
   ],
   "source": [
    "# train summary \n",
    "from snorkel.labeling import LFAnalysis\n",
    "LFAnalysis(L=L_train, lfs=lfs).lf_summary()"
   ]
  },
  {
   "cell_type": "code",
   "execution_count": 27,
   "metadata": {},
   "outputs": [
    {
     "name": "stdout",
     "output_type": "stream",
     "text": [
      "                   j Polarity  Coverage  Overlaps  Conflicts\n",
      "cconj             0   [1]      0.009424  0.009126  0.002105 \n",
      "tony              1   [1]      0.097892  0.075467  0.039186 \n",
      "first_marker      2   [1]      0.044588  0.038814  0.017004 \n",
      "no_type           3   [0]      0.344744  0.336680  0.022145 \n",
      "no_sil_bef        4   [0]      0.643150  0.593515  0.030172 \n",
      "no_after_markers  5   [0]      0.079248  0.063268  0.004973 \n",
      "no_disfluency     6   [0]      0.175147  0.156243  0.022815 \n",
      "point_bef         7   [1]      0.066565  0.058482  0.028757 \n",
      "nothing_bef       8   [0]      0.495772  0.468785  0.008400 \n",
      "keywords          9   [1]      0.017191  0.015701  0.010132 \n",
      "audio_spacy       10  [1]      0.023821  0.021251  0.008195 \n",
      "no_energy_pitch   11  [0]      0.377971  0.364803  0.028105 \n"
     ]
    }
   ],
   "source": [
    "print(LFAnalysis(L=L_train, lfs=lfs).lf_summary())"
   ]
  },
  {
   "cell_type": "markdown",
   "metadata": {},
   "source": [
    "### Analyse des règles sur le set de développement"
   ]
  },
  {
   "cell_type": "code",
   "execution_count": 28,
   "metadata": {},
   "outputs": [
    {
     "data": {
      "text/html": [
       "<div>\n",
       "<style scoped>\n",
       "    .dataframe tbody tr th:only-of-type {\n",
       "        vertical-align: middle;\n",
       "    }\n",
       "\n",
       "    .dataframe tbody tr th {\n",
       "        vertical-align: top;\n",
       "    }\n",
       "\n",
       "    .dataframe thead th {\n",
       "        text-align: right;\n",
       "    }\n",
       "</style>\n",
       "<table border=\"1\" class=\"dataframe\">\n",
       "  <thead>\n",
       "    <tr style=\"text-align: right;\">\n",
       "      <th></th>\n",
       "      <th>j</th>\n",
       "      <th>Polarity</th>\n",
       "      <th>Coverage</th>\n",
       "      <th>Overlaps</th>\n",
       "      <th>Conflicts</th>\n",
       "      <th>Correct</th>\n",
       "      <th>Incorrect</th>\n",
       "      <th>Emp. Acc.</th>\n",
       "    </tr>\n",
       "  </thead>\n",
       "  <tbody>\n",
       "    <tr>\n",
       "      <th>cconj</th>\n",
       "      <td>0</td>\n",
       "      <td>[1]</td>\n",
       "      <td>0.008203</td>\n",
       "      <td>0.008101</td>\n",
       "      <td>0.001743</td>\n",
       "      <td>71</td>\n",
       "      <td>9</td>\n",
       "      <td>0.887500</td>\n",
       "    </tr>\n",
       "    <tr>\n",
       "      <th>tony</th>\n",
       "      <td>1</td>\n",
       "      <td>[1]</td>\n",
       "      <td>0.094852</td>\n",
       "      <td>0.075574</td>\n",
       "      <td>0.036608</td>\n",
       "      <td>615</td>\n",
       "      <td>310</td>\n",
       "      <td>0.664865</td>\n",
       "    </tr>\n",
       "    <tr>\n",
       "      <th>first_marker</th>\n",
       "      <td>2</td>\n",
       "      <td>[1]</td>\n",
       "      <td>0.051169</td>\n",
       "      <td>0.043786</td>\n",
       "      <td>0.019073</td>\n",
       "      <td>338</td>\n",
       "      <td>161</td>\n",
       "      <td>0.677355</td>\n",
       "    </tr>\n",
       "    <tr>\n",
       "      <th>no_type</th>\n",
       "      <td>3</td>\n",
       "      <td>[0]</td>\n",
       "      <td>0.331317</td>\n",
       "      <td>0.321678</td>\n",
       "      <td>0.020509</td>\n",
       "      <td>3108</td>\n",
       "      <td>123</td>\n",
       "      <td>0.961931</td>\n",
       "    </tr>\n",
       "    <tr>\n",
       "      <th>no_sil_bef</th>\n",
       "      <td>4</td>\n",
       "      <td>[0]</td>\n",
       "      <td>0.602851</td>\n",
       "      <td>0.557527</td>\n",
       "      <td>0.021739</td>\n",
       "      <td>5742</td>\n",
       "      <td>137</td>\n",
       "      <td>0.976697</td>\n",
       "    </tr>\n",
       "    <tr>\n",
       "      <th>no_after_markers</th>\n",
       "      <td>5</td>\n",
       "      <td>[0]</td>\n",
       "      <td>0.088905</td>\n",
       "      <td>0.071473</td>\n",
       "      <td>0.005435</td>\n",
       "      <td>822</td>\n",
       "      <td>45</td>\n",
       "      <td>0.948097</td>\n",
       "    </tr>\n",
       "    <tr>\n",
       "      <th>no_disfluency</th>\n",
       "      <td>6</td>\n",
       "      <td>[0]</td>\n",
       "      <td>0.235747</td>\n",
       "      <td>0.210316</td>\n",
       "      <td>0.027584</td>\n",
       "      <td>2121</td>\n",
       "      <td>178</td>\n",
       "      <td>0.922575</td>\n",
       "    </tr>\n",
       "    <tr>\n",
       "      <th>point_bef</th>\n",
       "      <td>7</td>\n",
       "      <td>[1]</td>\n",
       "      <td>0.064705</td>\n",
       "      <td>0.058450</td>\n",
       "      <td>0.026354</td>\n",
       "      <td>449</td>\n",
       "      <td>182</td>\n",
       "      <td>0.711569</td>\n",
       "    </tr>\n",
       "    <tr>\n",
       "      <th>nothing_bef</th>\n",
       "      <td>8</td>\n",
       "      <td>[0]</td>\n",
       "      <td>0.475185</td>\n",
       "      <td>0.449344</td>\n",
       "      <td>0.008203</td>\n",
       "      <td>4618</td>\n",
       "      <td>16</td>\n",
       "      <td>0.996547</td>\n",
       "    </tr>\n",
       "    <tr>\n",
       "      <th>keywords</th>\n",
       "      <td>9</td>\n",
       "      <td>[1]</td>\n",
       "      <td>0.015279</td>\n",
       "      <td>0.013638</td>\n",
       "      <td>0.008306</td>\n",
       "      <td>105</td>\n",
       "      <td>44</td>\n",
       "      <td>0.704698</td>\n",
       "    </tr>\n",
       "    <tr>\n",
       "      <th>audio_spacy</th>\n",
       "      <td>10</td>\n",
       "      <td>[1]</td>\n",
       "      <td>0.028199</td>\n",
       "      <td>0.025021</td>\n",
       "      <td>0.008409</td>\n",
       "      <td>202</td>\n",
       "      <td>73</td>\n",
       "      <td>0.734545</td>\n",
       "    </tr>\n",
       "    <tr>\n",
       "      <th>no_energy_pitch</th>\n",
       "      <td>11</td>\n",
       "      <td>[0]</td>\n",
       "      <td>0.419606</td>\n",
       "      <td>0.400533</td>\n",
       "      <td>0.023482</td>\n",
       "      <td>3950</td>\n",
       "      <td>142</td>\n",
       "      <td>0.965298</td>\n",
       "    </tr>\n",
       "  </tbody>\n",
       "</table>\n",
       "</div>"
      ],
      "text/plain": [
       "                   j Polarity  Coverage  Overlaps  Conflicts  Correct  \\\n",
       "cconj             0   [1]      0.008203  0.008101  0.001743   71        \n",
       "tony              1   [1]      0.094852  0.075574  0.036608   615       \n",
       "first_marker      2   [1]      0.051169  0.043786  0.019073   338       \n",
       "no_type           3   [0]      0.331317  0.321678  0.020509   3108      \n",
       "no_sil_bef        4   [0]      0.602851  0.557527  0.021739   5742      \n",
       "no_after_markers  5   [0]      0.088905  0.071473  0.005435   822       \n",
       "no_disfluency     6   [0]      0.235747  0.210316  0.027584   2121      \n",
       "point_bef         7   [1]      0.064705  0.058450  0.026354   449       \n",
       "nothing_bef       8   [0]      0.475185  0.449344  0.008203   4618      \n",
       "keywords          9   [1]      0.015279  0.013638  0.008306   105       \n",
       "audio_spacy       10  [1]      0.028199  0.025021  0.008409   202       \n",
       "no_energy_pitch   11  [0]      0.419606  0.400533  0.023482   3950      \n",
       "\n",
       "                  Incorrect  Emp. Acc.  \n",
       "cconj             9          0.887500   \n",
       "tony              310        0.664865   \n",
       "first_marker      161        0.677355   \n",
       "no_type           123        0.961931   \n",
       "no_sil_bef        137        0.976697   \n",
       "no_after_markers  45         0.948097   \n",
       "no_disfluency     178        0.922575   \n",
       "point_bef         182        0.711569   \n",
       "nothing_bef       16         0.996547   \n",
       "keywords          44         0.704698   \n",
       "audio_spacy       73         0.734545   \n",
       "no_energy_pitch   142        0.965298   "
      ]
     },
     "execution_count": 28,
     "metadata": {},
     "output_type": "execute_result"
    }
   ],
   "source": [
    "# dev summary \n",
    "from snorkel.labeling import LFAnalysis\n",
    "a=LFAnalysis(L=L_dev, lfs=lfs).lf_summary(Y_dev)\n",
    "a"
   ]
  },
  {
   "cell_type": "code",
   "execution_count": 29,
   "metadata": {},
   "outputs": [
    {
     "name": "stdout",
     "output_type": "stream",
     "text": [
      "Index(['cconj', 'tony', 'first_marker', 'no_type', 'no_sil_bef',\n",
      "       'no_after_markers', 'no_disfluency', 'point_bef', 'nothing_bef',\n",
      "       'keywords', 'audio_spacy', 'no_energy_pitch'],\n",
      "      dtype='object')\n"
     ]
    }
   ],
   "source": [
    "print(a[\"Polarity\"].index)"
   ]
  },
  {
   "cell_type": "markdown",
   "metadata": {},
   "source": [
    "### Scores des règles BOS "
   ]
  },
  {
   "cell_type": "code",
   "execution_count": 30,
   "metadata": {
    "scrolled": true
   },
   "outputs": [
    {
     "data": {
      "text/html": [
       "<div>\n",
       "<style scoped>\n",
       "    .dataframe tbody tr th:only-of-type {\n",
       "        vertical-align: middle;\n",
       "    }\n",
       "\n",
       "    .dataframe tbody tr th {\n",
       "        vertical-align: top;\n",
       "    }\n",
       "\n",
       "    .dataframe thead th {\n",
       "        text-align: right;\n",
       "    }\n",
       "</style>\n",
       "<table border=\"1\" class=\"dataframe\">\n",
       "  <thead>\n",
       "    <tr style=\"text-align: right;\">\n",
       "      <th></th>\n",
       "      <th>rule</th>\n",
       "      <th>precision</th>\n",
       "      <th>recall</th>\n",
       "      <th>fscore</th>\n",
       "    </tr>\n",
       "  </thead>\n",
       "  <tbody>\n",
       "    <tr>\n",
       "      <th>0</th>\n",
       "      <td>cconj</td>\n",
       "      <td>0.887500</td>\n",
       "      <td>0.062281</td>\n",
       "      <td>0.116393</td>\n",
       "    </tr>\n",
       "    <tr>\n",
       "      <th>1</th>\n",
       "      <td>tony</td>\n",
       "      <td>0.664865</td>\n",
       "      <td>0.539474</td>\n",
       "      <td>0.595642</td>\n",
       "    </tr>\n",
       "    <tr>\n",
       "      <th>2</th>\n",
       "      <td>first_marker</td>\n",
       "      <td>0.677355</td>\n",
       "      <td>0.296491</td>\n",
       "      <td>0.412447</td>\n",
       "    </tr>\n",
       "    <tr>\n",
       "      <th>3</th>\n",
       "      <td>point_bef</td>\n",
       "      <td>0.711569</td>\n",
       "      <td>0.393860</td>\n",
       "      <td>0.507058</td>\n",
       "    </tr>\n",
       "    <tr>\n",
       "      <th>4</th>\n",
       "      <td>keywords</td>\n",
       "      <td>0.704698</td>\n",
       "      <td>0.092105</td>\n",
       "      <td>0.162917</td>\n",
       "    </tr>\n",
       "    <tr>\n",
       "      <th>5</th>\n",
       "      <td>audio_spacy</td>\n",
       "      <td>0.734545</td>\n",
       "      <td>0.177193</td>\n",
       "      <td>0.285512</td>\n",
       "    </tr>\n",
       "  </tbody>\n",
       "</table>\n",
       "</div>"
      ],
      "text/plain": [
       "           rule  precision    recall    fscore\n",
       "0  cconj         0.887500   0.062281  0.116393\n",
       "1  tony          0.664865   0.539474  0.595642\n",
       "2  first_marker  0.677355   0.296491  0.412447\n",
       "3  point_bef     0.711569   0.393860  0.507058\n",
       "4  keywords      0.704698   0.092105  0.162917\n",
       "5  audio_spacy   0.734545   0.177193  0.285512"
      ]
     },
     "execution_count": 30,
     "metadata": {},
     "output_type": "execute_result"
    }
   ],
   "source": [
    "s1=Y_dev.sum() # nombre de cas positif \n",
    "s0=len(Y_dev)-s1 \n",
    "\n",
    "rule=[]\n",
    "p=[]\n",
    "r=[]\n",
    "fscore=[]\n",
    "rule=[]\n",
    "\n",
    "for x in a.itertuples():\n",
    "    if x.Polarity==[1]:\n",
    "        # precision = TP / (TP + FP ) \n",
    "        precision=int(x.Correct)/(int(x.Correct)+int(x.Incorrect))\n",
    "        p.append(precision)\n",
    "        # recall = TP /(TP + FN )\n",
    "        recall=(x.Correct)/(int(x.Correct)+(int(s1-x.Correct)))\n",
    "        r.append(recall)\n",
    "        # fscore= 2.(p.r / (p+r))\n",
    "        fscore.append(2*precision*recall/(precision+recall))\n",
    "        rule.append(x.Index)\n",
    "\n",
    "df_scores=pd.DataFrame({'rule': rule, 'precision': p, 'recall': r, 'fscore': fscore})\n",
    "df_scores"
   ]
  },
  {
   "cell_type": "markdown",
   "metadata": {},
   "source": [
    "## 6. Modèle génératif"
   ]
  },
  {
   "cell_type": "markdown",
   "metadata": {},
   "source": [
    "### Création modèle génératif"
   ]
  },
  {
   "cell_type": "code",
   "execution_count": 31,
   "metadata": {},
   "outputs": [],
   "source": [
    "from snorkel.labeling.model import MajorityLabelVoter\n",
    "\n",
    "majority_model = MajorityLabelVoter()\n",
    "preds_dev = majority_model.predict(L=L_train)"
   ]
  },
  {
   "cell_type": "code",
   "execution_count": 32,
   "metadata": {},
   "outputs": [],
   "source": [
    "from snorkel.labeling.model import LabelModel\n",
    "\n",
    "label_model = LabelModel(cardinality=2, verbose=True)\n",
    "label_model.fit(L_train=L_train,Y_dev=Y_dev, n_epochs=7000, seed=123)\n"
   ]
  },
  {
   "cell_type": "code",
   "execution_count": 33,
   "metadata": {},
   "outputs": [
    {
     "name": "stdout",
     "output_type": "stream",
     "text": [
      "Majority Vote Accuracy:   88.9%\n",
      "Label Model Accuracy:     90.4%\n"
     ]
    }
   ],
   "source": [
    "majority_acc = majority_model.score(L=L_test, Y=Y_test, tie_break_policy=\"random\")[\n",
    "    \"accuracy\"\n",
    "]\n",
    "print(f\"{'Majority Vote Accuracy:':<25} {majority_acc * 100:.1f}%\")\n",
    "\n",
    "label_model_acc = label_model.score(L=L_test, Y=Y_test, tie_break_policy=\"random\")[\n",
    "    \"accuracy\"\n",
    "]\n",
    "print(f\"{'Label Model Accuracy:':<25} {label_model_acc * 100:.1f}%\")"
   ]
  },
  {
   "cell_type": "markdown",
   "metadata": {},
   "source": [
    "### Evaluation de la sortie du modèle génératif"
   ]
  },
  {
   "cell_type": "code",
   "execution_count": 34,
   "metadata": {},
   "outputs": [
    {
     "name": "stdout",
     "output_type": "stream",
     "text": [
      "Label model f1 score: 0.6708975521305531\n",
      "Label model precision score: 0.6941838649155723\n",
      "Label model recall score: 0.6491228070175439\n",
      "Label model roc-auc: 0.9162156436143772\n"
     ]
    }
   ],
   "source": [
    "# dev \n",
    "from snorkel.analysis import metric_score\n",
    "from snorkel.utils import probs_to_preds\n",
    "probs_dev = label_model.predict_proba(L_dev)\n",
    "preds_dev = probs_to_preds(probs_dev)\n",
    "print(\n",
    "    f\"Label model f1 score: {metric_score(Y_dev, preds_dev, probs=probs_dev, metric='f1')}\",\n",
    "    f\"Label model precision score: {metric_score(Y_dev, preds_dev, probs=probs_dev, metric='precision')}\",\n",
    "    f\"Label model recall score: {metric_score(Y_dev, preds_dev, probs=probs_dev, metric='recall')}\",\n",
    "    f\"Label model roc-auc: {metric_score(Y_dev, preds_dev, probs=probs_dev, metric='roc_auc')}\",\n",
    "    sep = \"\\n\"\n",
    ")"
   ]
  },
  {
   "cell_type": "markdown",
   "metadata": {},
   "source": [
    "### Evaluation Segeval"
   ]
  },
  {
   "cell_type": "code",
   "execution_count": 35,
   "metadata": {},
   "outputs": [
    {
     "name": "stdout",
     "output_type": "stream",
     "text": [
      "Boundary Similarity =  0.5293501048218029350104821803\n",
      "Boundary Similarity tony alone =  0.4678423236514522821576763485\n",
      "Segmentation Similarity =  0.9309372436423297785069729286\n",
      "entropie croisée =  0.023424403759274796\n"
     ]
    }
   ],
   "source": [
    "import segeval as se\n",
    "\n",
    "label=[]\n",
    "for e in probs_dev:\n",
    "    if e[1]>e[0] and e[1]>0.5:\n",
    "        label.append(1)\n",
    "    else:\n",
    "        label.append(0)\n",
    "tony_list=[]       \n",
    "for x in df_dev.itertuples():\n",
    "    tony_list.append(x.tony)\n",
    "\n",
    "#print(len(Y_dev), len(label))\n",
    "gold_nltk=\"\"\n",
    "result_nltk=\"\"\n",
    "tony_nltk=\"\"\n",
    "\n",
    "\n",
    "for i in range(0,len(Y_dev)):\n",
    "    gold_nltk+=str(Y_dev[i])\n",
    "    result_nltk+=str(label[i])\n",
    "    tony_nltk+=str(tony_list[i])\n",
    "\n",
    "#print(len(gold_str), len(result_str))\n",
    "gold_masses=se.convert_nltk_to_masses(gold_nltk, boundary_symbol='1')\n",
    "result_masses=se.convert_nltk_to_masses(result_nltk, boundary_symbol='1')\n",
    "tony_masses=se.convert_nltk_to_masses(tony_nltk, boundary_symbol='1')\n",
    "nt=2\n",
    "print(\"Boundary Similarity = \", se.boundary_similarity(gold_masses, result_masses, n_t=nt))\n",
    "print(\"Boundary Similarity tony alone = \", se.boundary_similarity(gold_masses, tony_masses, n_t=nt))\n",
    "\n",
    "gold_str=se.boundary_string_from_masses(gold_masses)\n",
    "result_str=se.boundary_string_from_masses(result_masses)\n",
    "\n",
    "edit_distance=se.boundary_edit_distance(gold_str, result_str,3)\n",
    "#convert_masses_to_positions(masses)\n",
    "gold_positions=se.convert_masses_to_positions(gold_masses)\n",
    "result_positions=se.convert_masses_to_positions(result_masses)\n",
    "\n",
    "\n",
    "print(\"Segmentation Similarity = \",se.segmentation_similarity(gold_masses, result_masses))\n",
    "\n",
    "\n",
    "# Entropie croisée \n",
    "from math import *\n",
    "\n",
    "ec=0\n",
    "for i in range(0, len(probs_dev)):\n",
    "    ec+=log(probs_dev[i][1])*label[i]\n",
    "    \n",
    "ec=-ec/len(probs_dev)\n",
    "\n",
    "print(\"entropie croisée = \", ec)"
   ]
  },
  {
   "cell_type": "markdown",
   "metadata": {},
   "source": [
    "### Seuil"
   ]
  },
  {
   "cell_type": "code",
   "execution_count": 36,
   "metadata": {},
   "outputs": [
    {
     "name": "stdout",
     "output_type": "stream",
     "text": [
      "<class 'numpy.ndarray'>\n",
      "Label model f1 score: 0.6708975521305531\n",
      "Label model precision score: 0.6941838649155723\n",
      "Label model recall score: 0.6491228070175439\n",
      "Label model roc-auc: 0.9162156436143772\n"
     ]
    }
   ],
   "source": [
    "#calcul seuil\n",
    "print(type(preds_dev))\n",
    "\n",
    "label=[]\n",
    "for e in probs_dev:\n",
    "    if  e[1]>0.5:\n",
    "        label.append(1)\n",
    "    else:\n",
    "        label.append(0)\n",
    "preds_dev=np.array(label)\n",
    "print(\n",
    "    f\"Label model f1 score: {metric_score(Y_dev, preds_dev, probs=probs_dev, metric='f1')}\",\n",
    "    f\"Label model precision score: {metric_score(Y_dev, preds_dev, probs=probs_dev, metric='precision')}\",\n",
    "    f\"Label model recall score: {metric_score(Y_dev, preds_dev, probs=probs_dev, metric='recall')}\",\n",
    "    f\"Label model roc-auc: {metric_score(Y_dev, preds_dev, probs=probs_dev, metric='roc_auc')}\",\n",
    "    sep = \"\\n\"\n",
    ")"
   ]
  },
  {
   "cell_type": "markdown",
   "metadata": {},
   "source": [
    "## 7. Analyse des résultats"
   ]
  },
  {
   "cell_type": "code",
   "execution_count": 38,
   "metadata": {},
   "outputs": [
    {
     "data": {
      "image/png": "[encoded data removed]",
      "text/plain": [
       "<Figure size 432x288 with 1 Axes>"
      ]
     },
     "metadata": {
      "needs_background": "light"
     },
     "output_type": "display_data"
    }
   ],
   "source": [
    "np.around(label_model.get_weights(), 2) \n",
    "import matplotlib.pyplot as plt\n",
    "\n",
    "\n",
    "def plot_probabilities_histogram(Y):\n",
    "    plt.hist(Y, bins=10)\n",
    "    plt.xlabel(\"Probability of BOS\")\n",
    "    plt.ylabel(\"Number of data points\")\n",
    "    plt.show()\n",
    "\n",
    "\n",
    "probs_train = label_model.predict_proba(L=L_train)\n",
    "plot_probabilities_histogram(probs_train[:, BOS])"
   ]
  },
  {
   "cell_type": "code",
   "execution_count": 39,
   "metadata": {},
   "outputs": [
    {
     "data": {
      "text/plain": [
       "array([0.93, 0.63, 0.75, 1.  , 1.  , 0.72, 0.87, 0.72, 1.  , 0.7 , 0.77,\n",
       "       1.  ])"
      ]
     },
     "execution_count": 39,
     "metadata": {},
     "output_type": "execute_result"
    }
   ],
   "source": [
    "np.around(label_model.get_weights(), 2) "
   ]
  },
  {
   "cell_type": "code",
   "execution_count": 40,
   "metadata": {},
   "outputs": [
    {
     "data": {
      "image/png": "[encoded data removed]",
      "text/plain": [
       "<Figure size 432x288 with 1 Axes>"
      ]
     },
     "metadata": {
      "needs_background": "light"
     },
     "output_type": "display_data"
    }
   ],
   "source": [
    "def plot_label_frequency(L):\n",
    "    plt.hist((L != ABSTAIN).sum(axis=1), density=True, bins=range(L.shape[1]))\n",
    "    plt.xlabel(\"Number of labels\")\n",
    "    plt.ylabel(\"Fraction of dataset\")\n",
    "    plt.show()\n",
    "\n",
    "\n",
    "plot_label_frequency(L_train)"
   ]
  },
  {
   "cell_type": "markdown",
   "metadata": {},
   "source": [
    "### Etude des erreurs dans la sortie du modèle génératif"
   ]
  },
  {
   "cell_type": "code",
   "execution_count": 41,
   "metadata": {},
   "outputs": [
    {
     "name": "stdout",
     "output_type": "stream",
     "text": [
      "euh      33\n",
      "ouais    23\n",
      "bon      17\n",
      "ça       16\n",
      "c'       16\n",
      "hum      13\n",
      "en       12\n",
      "voilà    11\n",
      "on       11\n",
      "que      10\n",
      "ce       10\n",
      "je       9 \n",
      "si       9 \n",
      "il       8 \n",
      "d'       7 \n",
      "ok       7 \n",
      "est      7 \n",
      "et       7 \n",
      "le       7 \n",
      "pour     6 \n",
      "Name: word, dtype: int64\n"
     ]
    }
   ],
   "source": [
    "# Etude des erreurs après le modèle génératif\n",
    "\n",
    "probs_dev = label_model.predict_proba(L_dev)\n",
    "\n",
    "label=[]\n",
    "for e in probs_dev:\n",
    "    if e[1]>e[0] and e[1]>0.5:\n",
    "        label.append(1)\n",
    "    else:\n",
    "        label.append(0)\n",
    "\n",
    "#création fichier \n",
    "word2=df_dev[\"word\"].values\n",
    "\n",
    "df_analysis=pd.DataFrame({\"word\" : word2, \"label\": label, \"gold\" : Y_dev})\n",
    "df_analysis.head()\n",
    "\n",
    "\n",
    "df_obs2=df_analysis[(df_analysis[\"label\"]==0) & (df_analysis[\"gold\"]==1)]\n",
    "a=df_obs2['word'].value_counts()\n",
    "print(a[:20])\n",
    "\n",
    "\n",
    "#df_analysis.to_csv(\"analysis.csv\")"
   ]
  },
  {
   "cell_type": "markdown",
   "metadata": {},
   "source": [
    "## 8. Création de fichiers utiles sur la sortie du modèle génératif"
   ]
  },
  {
   "cell_type": "markdown",
   "metadata": {},
   "source": [
    "1.Fichier pour entrainement/fine-tuning de ToNy\n",
    "<br>\n",
    "2.Fichier de visualisation des BOS de sortie du modèle génératif , comparaison avec le GOLD\n",
    "<br>\n",
    "3.Fichier de visualisation des virgules et leur lien avec les BOS\n",
    "<br>\n",
    "4.Fichier de visualisation des vrais tours VS tours détectés automatiquement \n",
    "<br>"
   ]
  },
  {
   "cell_type": "markdown",
   "metadata": {},
   "source": [
    "### 1.Fichier pour entrainement/fine-tuning de ToNy"
   ]
  },
  {
   "cell_type": "code",
   "execution_count": 159,
   "metadata": {},
   "outputs": [],
   "source": [
    "probs_train = label_model.predict_proba(L_train)\n",
    "\n",
    "label=[]\n",
    "for e in probs_train:\n",
    "    if e[1]>e[0] and e[1]>0.5:\n",
    "        label.append(1)\n",
    "    else:\n",
    "        label.append(0)\n",
    "\n",
    "#création fichier \n",
    "\n",
    "file_tony=open(\"file_train_tony_18022021_V2beground.txt\", \"w\")\n",
    "i=0\n",
    "\n",
    "for x in df_train.itertuples():\n",
    "    if x.rank_round==0:\n",
    "        file_tony.write(\"\\n\")\n",
    "    if label[i]==1:\n",
    "        file_tony.write(str(x.word)+\"\\t\"+\"NN\"+\"\\t\"+\"O\"+\"\\t\"+\"B-S\"+\"\\n\")\n",
    "    else:\n",
    "        file_tony.write(str(x.word)+\"\\t\"+\"NN\"+\"\\t\"+\"O\"+\"\\t\"+\"O\"+\"\\n\")\n",
    "    i+=1\n",
    "file_tony.close()\n"
   ]
  },
  {
   "cell_type": "code",
   "execution_count": 248,
   "metadata": {},
   "outputs": [],
   "source": [
    "#création fichier \n",
    "\n",
    "file_tony=open(\"file_gold_dev_tony.txt\", \"w\")\n",
    "i=0\n",
    "\n",
    "for x in df_dev.itertuples():\n",
    "    if x.rank_round==0:\n",
    "        file_tony.write(\"\\n\")\n",
    "    if Y_dev[i]==1:\n",
    "        file_tony.write(str(x.word)+\"\\t\"+\"NN\"+\"\\t\"+\"O\"+\"\\t\"+\"B-S\"+\"\\n\")\n",
    "    else:\n",
    "        file_tony.write(str(x.word)+\"\\t\"+\"NN\"+\"\\t\"+\"O\"+\"\\t\"+\"O\"+\"\\n\")\n",
    "    i+=1\n",
    "\n",
    "file_tony.close()"
   ]
  },
  {
   "cell_type": "markdown",
   "metadata": {},
   "source": [
    "### 2.Fichier de visualisation des BOS de sortie du modèle génératif , comparaison avec le GOLD"
   ]
  },
  {
   "cell_type": "code",
   "execution_count": null,
   "metadata": {},
   "outputs": [],
   "source": [
    "# création d'un fichier de sortie joli pour vérifier qualitativement si ça marche bien \n",
    "\n",
    "\n",
    "label=[]\n",
    "for e in probs_dev:\n",
    "    if e[1]>e[0] and e[1]>0.5:\n",
    "        label.append(1)\n",
    "    else:\n",
    "        label.append(0)\n",
    "\n",
    "#création fichier \n",
    "\n",
    "file=open(\"readable_bos_output_generative_model.txt\", \"w\")\n",
    "\n",
    "\n",
    "i=0\n",
    "liste_texte=[]\n",
    "\n",
    "for x in df_dev.itertuples():\n",
    "    mot=x.word\n",
    "    if x.real_rank_round==0 :\n",
    "        if x.prob_point_bef<0.5 and i>0 and x.prob_comma_bef<0.5:\n",
    "            liste_texte.append(\".\")\n",
    "        liste_texte.append(\"\\n\"+\"\\n\"+\"---Spk---\"+\"\\n\"+\"\\n\")\n",
    "\n",
    "    if label[i]==1:\n",
    "        liste_texte.append(\"|D|\")\n",
    "    if Y_dev[i]==1:\n",
    "        liste_texte.append(\"|G|\")      \n",
    "    \n",
    "    \n",
    "    if x.prob_point_bef>0.5 or x.real_rank_round==0:\n",
    "        mot=str(mot).capitalize()\n",
    "    \n",
    "    if x.prob_point>0.5:\n",
    "        mot=mot+\".\"\n",
    "\n",
    "    if x.prob_comma>0.5:\n",
    "        mot=mot+\",\"\n",
    "\n",
    "    liste_texte.append(mot)\n",
    "    \n",
    "    \n",
    "    \n",
    "\n",
    "        \n",
    "    i+=1\n",
    "    if i==len(df_dev):\n",
    "        liste_texte.append(\".\")\n",
    "\n",
    "file.write(\" \".join(liste_texte))\n",
    "\n",
    "file.close()\n",
    "    "
   ]
  },
  {
   "cell_type": "markdown",
   "metadata": {},
   "source": [
    "### 3.Fichier de visualisation des virgules et leur lien avec les BOS"
   ]
  },
  {
   "cell_type": "code",
   "execution_count": null,
   "metadata": {},
   "outputs": [],
   "source": [
    "# visualisation des virgules \n",
    "\n",
    "label=[]\n",
    "for e in probs_dev:\n",
    "    if e[1]>e[0] and e[1]>0.5:\n",
    "        label.append(1)\n",
    "    else:\n",
    "        label.append(0)\n",
    "\n",
    "#création fichier \n",
    "\n",
    "file=open(\"virgules_bos_19012021.txt\", \"w\")\n",
    "\n",
    "\n",
    "i=0\n",
    "liste_texte=[]\n",
    "\n",
    "for x in df_dev.itertuples():\n",
    "    mot=x.word\n",
    "    if x.real_rank_round==0 :\n",
    "        if x.prob_point_bef<0.5 and i>0 and x.prob_comma_bef<0.3:\n",
    "            liste_texte.append(\".\")\n",
    "        liste_texte.append(\"\\n\"+\"\\n\"+\"---Spk---\"+\"\\n\"+\"\\n\")\n",
    "\n",
    "    if Y_dev[i]==1:\n",
    "        liste_texte.append(\"|G|\")      \n",
    "    \n",
    "    \n",
    "    if x.prob_point_bef>0.5 or x.real_rank_round==0:\n",
    "        mot=str(mot).capitalize()\n",
    "    \n",
    "    if x.prob_point>0.5:\n",
    "        mot=mot+\".\"\n",
    "\n",
    "    if x.prob_comma>0.3:\n",
    "        mot=mot+\",\"\n",
    "\n",
    "    liste_texte.append(mot)\n",
    "    \n",
    "    \n",
    "    \n",
    "\n",
    "        \n",
    "    i+=1\n",
    "    if i==len(df_dev):\n",
    "        liste_texte.append(\".\")\n",
    "\n",
    "file.write(\" \".join(liste_texte))\n",
    "\n",
    "file.close()"
   ]
  },
  {
   "cell_type": "markdown",
   "metadata": {},
   "source": [
    "### 4. Fichier de visualisation des vrais tours VS tours détectés automatiquement "
   ]
  },
  {
   "cell_type": "code",
   "execution_count": null,
   "metadata": {},
   "outputs": [],
   "source": [
    "# visualisation erreur d echangmenet de speaker \n",
    "\n",
    "\n",
    "label=[]\n",
    "for e in probs_dev:\n",
    "    if e[1]>e[0] and e[1]>0.5:\n",
    "        label.append(1)\n",
    "    else:\n",
    "        label.append(0)\n",
    "\n",
    "#création fichier \n",
    "\n",
    "file=open(\"spk_change.txt\", \"w\")\n",
    "\n",
    "\n",
    "i=0\n",
    "liste_texte=[]\n",
    "\n",
    "for x in df_dev.itertuples():\n",
    "    mot=x.word\n",
    "    if x.rank_round==0 :\n",
    "        if x.prob_point_bef<0.5 and i>0 and x.prob_comma_bef<0.5:\n",
    "            liste_texte.append(\".\")\n",
    "        liste_texte.append(\"\\n\"+\"\\n\"+\"---Spk detected---\"+\"\\n\"+\"\\n\")\n",
    "\n",
    "    if x.real_rank_round==0:\n",
    "        liste_texte.append(\"|SPK|\")\n",
    "     \n",
    "   \n",
    "    if x.prob_point_bef>0.5 or x.real_rank_round==0:\n",
    "        mot=str(mot).capitalize()\n",
    "    \n",
    "    if x.prob_point>0.5:\n",
    "        mot=mot+\".\"\n",
    "\n",
    "    if x.prob_comma>0.5:\n",
    "        mot=mot+\",\"\n",
    "\n",
    "    liste_texte.append(mot)\n",
    "    \n",
    "    \n",
    "    \n",
    "\n",
    "        \n",
    "    i+=1\n",
    "    if i==len(df_dev):\n",
    "        liste_texte.append(\".\")\n",
    "\n",
    "file.write(\" \".join(liste_texte))\n",
    "\n",
    "file.close()"
   ]
  },
  {
   "cell_type": "code",
   "execution_count": null,
   "metadata": {},
   "outputs": [],
   "source": []
  },
  {
   "cell_type": "code",
   "execution_count": 39,
   "metadata": {},
   "outputs": [
    {
     "name": "stdout",
     "output_type": "stream",
     "text": [
      "bonjou\n"
     ]
    }
   ],
   "source": [
    "# visualisation erreur d echangmenet de speaker \n",
    "\n",
    "\n",
    "\n",
    "\n",
    "file=open(\"spk_change_comparison_R1.txt\", \"w\")\n",
    "\n",
    "\n",
    "i=0\n",
    "liste_texte=[]\n",
    "\n",
    "for x in df_dev.itertuples():\n",
    "    mot=x.word\n",
    "    if x.real_rank_round==0 :\n",
    "        if x.prob_point_bef<0.5 and i>0 and x.prob_comma_bef<0.5:\n",
    "            liste_texte.append(\".\")\n",
    "        liste_texte.append(\"\\n\"+\"\\n\"+\"---Real turn---\"+\"\\n\"+\"\\n\")\n",
    "        \n",
    "\n",
    "    if x.rank_round==0:\n",
    "        liste_texte.append(\"|D_SPK|\")\n",
    "    \n",
    "    #if label[i]==1:\n",
    "        #liste_texte.append(\"|D_BOS|\")\n",
    "        \n",
    "    \n",
    "    \n",
    "    if x.prob_point_bef>0.5 or x.real_rank_round==0:\n",
    "        mot=str(mot).capitalize()\n",
    "    \n",
    "    if x.prob_point>0.5:\n",
    "        mot=mot+\".\"\n",
    "\n",
    "    if x.prob_comma>0.5:\n",
    "        mot=mot+\",\"\n",
    "\n",
    "    liste_texte.append(mot)\n",
    "    \n",
    "    \n",
    "    \n",
    "\n",
    "        \n",
    "    i+=1\n",
    "    if i==len(df_dev):\n",
    "        liste_texte.append(\".\")\n",
    "\n",
    "file.write(\" \".join(liste_texte))\n",
    "print(\"bonjou\")\n",
    "file.close()"
   ]
  },
  {
   "cell_type": "markdown",
   "metadata": {},
   "source": [
    "#### Création de fichier pour la démo Gautier"
   ]
  },
  {
   "cell_type": "code",
   "execution_count": 45,
   "metadata": {},
   "outputs": [
    {
     "name": "stdout",
     "output_type": "stream",
     "text": [
      "53692 53692\n"
     ]
    }
   ],
   "source": [
    "# RAP 4\n",
    "probs_train = label_model.predict_proba(L_train)\n",
    "label=[]\n",
    "for e in probs_train:\n",
    "    if e[1]>e[0] and e[1]>0.5:\n",
    "        label.append(1)\n",
    "    else:\n",
    "        label.append(0)\n",
    "\n",
    "\n",
    "df_train_bos=df_train.copy()\n",
    "\n",
    "print(len(df_train_bos), len(label))    \n",
    "    \n",
    "df_train_bos[\"bos_snorkel\"]=label"
   ]
  },
  {
   "cell_type": "code",
   "execution_count": 48,
   "metadata": {},
   "outputs": [],
   "source": [
    "#df_train_bos.head()"
   ]
  },
  {
   "cell_type": "code",
   "execution_count": 64,
   "metadata": {},
   "outputs": [
    {
     "name": "stdout",
     "output_type": "stream",
     "text": [
      "37.74\n"
     ]
    }
   ],
   "source": [
    "#df_train_bos[\"bos_snorkel\"]=label\n",
    "\n",
    "df_train_bos.head()\n",
    "\n",
    "file=open(\"rap4_actes_dialogues.txt\",\"w\")\n",
    "\n",
    "df_r4=df_train_bos[(df_train_bos[\"file\"]==\"Linagora_R4\")]\n",
    "\n",
    "df_r4.head()\n",
    "i=0\n",
    "deb=float(df_r4.iat[0,2])\n",
    "print(deb)\n",
    "text=[]\n",
    "for x in df_r4.itertuples():\n",
    "    if x.bos_snorkel==1 and i!=0:\n",
    "        \n",
    "        file.write(\"\\n\"+\"Linagora_R4 \"+str(deb)+\" \"+str(x.beg_word)+\" \"+\" \".join(text))\n",
    "        deb=x.beg_word\n",
    "        text=[]\n",
    "        \n",
    "    text.append(x.word)\n",
    "    i+=1\n",
    "        \n",
    "file.close()\n"
   ]
  },
  {
   "cell_type": "code",
   "execution_count": null,
   "metadata": {},
   "outputs": [],
   "source": [
    "file=open(\"real_truns_timestamp\")\n",
    "\n",
    "for x in df_dev.itertuples():\n",
    "    if x.real_rank_round==0:\n",
    "        "
   ]
  }
 ],
 "metadata": {
  "kernelspec": {
   "display_name": "linto",
   "language": "python",
   "name": "linto"
  },
  "language_info": {
   "codemirror_mode": {
    "name": "ipython",
    "version": 3
   },
   "file_extension": ".py",
   "mimetype": "text/x-python",
   "name": "python",
   "nbconvert_exporter": "python",
   "pygments_lexer": "ipython3",
   "version": "3.8.6"
  }
 },
 "nbformat": 4,
 "nbformat_minor": 4
}
